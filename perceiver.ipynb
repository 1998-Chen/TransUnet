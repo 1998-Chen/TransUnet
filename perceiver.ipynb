{
 "cells": [
  {
   "cell_type": "code",
   "execution_count": null,
   "metadata": {},
   "outputs": [],
   "source": []
  },
  {
   "cell_type": "code",
   "execution_count": 3,
   "metadata": {},
   "outputs": [],
   "source": [
    "import numpy as np\n",
    "\n",
    "\n",
    "def exists(val):\n",
    "    # 判断是否存在\n",
    "    return val is not None\n",
    "\n",
    "def default(val, d):\n",
    "    # 当val存在时，则返回val, 否则返回d\n",
    "    return val if exists(val) else d"
   ]
  },
  {
   "cell_type": "code",
   "execution_count": 4,
   "metadata": {},
   "outputs": [
    {
     "data": {
      "text/plain": [
       "1"
      ]
     },
     "execution_count": 4,
     "metadata": {},
     "output_type": "execute_result"
    }
   ],
   "source": [
    "# 减少重复计算开销\n",
    "def cache_fn(f):\n",
    "    cache = None\n",
    "    @wraps(f)\n",
    "    def cached_fn(*args, _cache = True, **kwargs):\n",
    "        if not _cache:\n",
    "            return f(*args, **kwargs)\n",
    "        nonlocal cache\n",
    "        if cache is not None:\n",
    "            return cache\n",
    "        cache = f(*args, **kwargs)\n",
    "        return cache\n",
    "    return cached_fn"
   ]
  },
  {
   "cell_type": "code",
   "execution_count": 8,
   "metadata": {},
   "outputs": [
    {
     "data": {
      "text/plain": [
       "torch.Size([32, 16, 49152])"
      ]
     },
     "execution_count": 8,
     "metadata": {},
     "output_type": "execute_result"
    }
   ],
   "source": [
    "import torch\n",
    "import torch.nn as nn\n",
    "from einops.layers.torch import Rearrange\n",
    "\n",
    "Rearrange_ = Rearrange(pattern='b c (h p1) (w p2) -> b (h w) (p1 p2 c)', p1=32, p2=32)\n",
    "x = torch.rand(size=(32, 48, 128, 128))\n",
    "\n",
    "Rearrange_(x).shape"
   ]
  },
  {
   "cell_type": "code",
   "execution_count": 9,
   "metadata": {},
   "outputs": [],
   "source": [
    "x = x.transpose(-2, -1)"
   ]
  },
  {
   "cell_type": "code",
   "execution_count": 28,
   "metadata": {},
   "outputs": [],
   "source": [
    "y = torch.rand(size=(16, 48, 128, 128))"
   ]
  },
  {
   "cell_type": "code",
   "execution_count": 31,
   "metadata": {},
   "outputs": [],
   "source": [
    "Rearrange_ = Rearrange(pattern='b c (h p1) (w p2) -> b (h w) (p1 p2 c)', p1=32, p2=16)"
   ]
  },
  {
   "cell_type": "code",
   "execution_count": 32,
   "metadata": {},
   "outputs": [
    {
     "data": {
      "text/plain": [
       "torch.Size([16, 32, 24576])"
      ]
     },
     "execution_count": 32,
     "metadata": {},
     "output_type": "execute_result"
    }
   ],
   "source": [
    "Rearrange_(y).shape"
   ]
  },
  {
   "cell_type": "code",
   "execution_count": 33,
   "metadata": {},
   "outputs": [
    {
     "name": "stdout",
     "output_type": "stream",
     "text": [
      "0 34\n",
      "1 2\n",
      "2 1\n"
     ]
    }
   ],
   "source": [
    "a = [1,2,34]\n",
    "\n",
    "for i, j in enumerate(reversed(a)):\n",
    "    print(i, j)"
   ]
  },
  {
   "cell_type": "code",
   "execution_count": 66,
   "metadata": {},
   "outputs": [],
   "source": [
    "import torch.nn as nn"
   ]
  },
  {
   "cell_type": "code",
   "execution_count": 67,
   "metadata": {
    "collapsed": false,
    "pycharm": {
     "name": "#%%\n"
    }
   },
   "outputs": [],
   "source": [
    "import torch"
   ]
  },
  {
   "cell_type": "code",
   "execution_count": 70,
   "metadata": {
    "collapsed": false,
    "pycharm": {
     "name": "#%%\n"
    }
   },
   "outputs": [],
   "source": [
    "a = torch.rand(size=(32, 3, 256, 256))"
   ]
  },
  {
   "cell_type": "code",
   "execution_count": 71,
   "metadata": {
    "collapsed": false,
    "pycharm": {
     "name": "#%%\n"
    }
   },
   "outputs": [],
   "source": [
    "net = nn.Conv2d(in_channels=3, out_channels=64,\n",
    "                stride=(2,2), kernel_size=(3,3), padding='valid')"
   ]
  },
  {
   "cell_type": "code",
   "execution_count": 72,
   "metadata": {
    "collapsed": false,
    "pycharm": {
     "name": "#%%\n"
    }
   },
   "outputs": [
    {
     "name": "stdout",
     "output_type": "stream",
     "text": [
      "torch.Size([32, 64, 127, 127])\n"
     ]
    }
   ],
   "source": [
    "b = net(a)\n",
    "print(b.shape)"
   ]
  },
  {
   "cell_type": "code",
   "execution_count": 73,
   "metadata": {
    "collapsed": false,
    "pycharm": {
     "name": "#%%\n"
    }
   },
   "outputs": [],
   "source": [
    "net_ = nn.Conv2d(in_channels=64, out_channels=128, stride=(2,2), kernel_size=(3,3))"
   ]
  },
  {
   "cell_type": "code",
   "execution_count": 74,
   "metadata": {
    "collapsed": false,
    "pycharm": {
     "name": "#%%\n"
    }
   },
   "outputs": [
    {
     "data": {
      "text/plain": [
       "torch.Size([32, 128, 63, 63])"
      ]
     },
     "execution_count": 74,
     "metadata": {},
     "output_type": "execute_result"
    }
   ],
   "source": [
    "net_(b).shape"
   ]
  },
  {
   "cell_type": "code",
   "execution_count": 79,
   "metadata": {
    "collapsed": false,
    "pycharm": {
     "name": "#%%\n"
    }
   },
   "outputs": [],
   "source": [
    "c = net_(b)"
   ]
  },
  {
   "cell_type": "code",
   "execution_count": 77,
   "metadata": {
    "collapsed": false,
    "pycharm": {
     "name": "#%%\n"
    }
   },
   "outputs": [],
   "source": [
    "net_3 = nn.Conv2d(in_channels=128, out_channels=256, stride=(2,2), kernel_size=(3,3))"
   ]
  },
  {
   "cell_type": "code",
   "execution_count": 80,
   "metadata": {
    "collapsed": false,
    "pycharm": {
     "name": "#%%\n"
    }
   },
   "outputs": [],
   "source": [
    "d = net_3(c)"
   ]
  },
  {
   "cell_type": "code",
   "execution_count": 81,
   "metadata": {
    "collapsed": false,
    "pycharm": {
     "name": "#%%\n"
    }
   },
   "outputs": [
    {
     "data": {
      "text/plain": [
       "torch.Size([32, 256, 31, 31])"
      ]
     },
     "execution_count": 81,
     "metadata": {},
     "output_type": "execute_result"
    }
   ],
   "source": [
    "d.shape"
   ]
  },
  {
   "cell_type": "code",
   "execution_count": 84,
   "metadata": {
    "collapsed": false,
    "pycharm": {
     "name": "#%%\n"
    }
   },
   "outputs": [],
   "source": [
    "net_linear = nn.Linear(in_features=31, out_features=128)"
   ]
  },
  {
   "cell_type": "code",
   "execution_count": 85,
   "metadata": {
    "collapsed": false,
    "pycharm": {
     "name": "#%%\n"
    }
   },
   "outputs": [
    {
     "data": {
      "text/plain": [
       "torch.Size([32, 256, 31, 128])"
      ]
     },
     "execution_count": 85,
     "metadata": {},
     "output_type": "execute_result"
    }
   ],
   "source": [
    "net_linear(d).shape"
   ]
  },
  {
   "cell_type": "code",
   "execution_count": 115,
   "metadata": {
    "collapsed": false,
    "pycharm": {
     "name": "#%%\n"
    }
   },
   "outputs": [],
   "source": [
    "a = torch.rand(size=(32, 3, 256, 256))"
   ]
  },
  {
   "cell_type": "code",
   "execution_count": 122,
   "metadata": {
    "collapsed": false,
    "pycharm": {
     "name": "#%%\n"
    }
   },
   "outputs": [],
   "source": [
    "conv_1 = nn.Sequential(\n",
    "    nn.Conv2d(in_channels=3, out_channels=64, stride=(1,1), kernel_size=(3,3), padding='same'),\n",
    "    nn.MaxPool2d(kernel_size=3, stride=2, padding=1)\n",
    ")\n",
    "\n",
    "conv_2 = nn.Sequential(\n",
    "    nn.Conv2d(in_channels=64, out_channels=128, stride=(1,1), kernel_size=(3,3), padding='same'),\n",
    "    nn.MaxPool2d(kernel_size=3, stride=2, padding=1)\n",
    ")\n",
    "\n",
    "conv_3 = nn.Sequential(\n",
    "    nn.Conv2d(in_channels=128, out_channels=256, stride=(1,1), kernel_size=(3,3), padding='same'),\n",
    "    nn.MaxPool2d(kernel_size=3, stride=2, padding=1)\n",
    ")"
   ]
  },
  {
   "cell_type": "code",
   "execution_count": 123,
   "metadata": {
    "collapsed": false,
    "pycharm": {
     "name": "#%%\n"
    }
   },
   "outputs": [
    {
     "data": {
      "text/plain": [
       "torch.Size([32, 3, 256, 256])"
      ]
     },
     "execution_count": 123,
     "metadata": {},
     "output_type": "execute_result"
    }
   ],
   "source": [
    "a.shape"
   ]
  },
  {
   "cell_type": "code",
   "execution_count": 124,
   "metadata": {
    "collapsed": false,
    "pycharm": {
     "name": "#%%\n"
    }
   },
   "outputs": [],
   "source": [
    "b=conv_1(a)"
   ]
  },
  {
   "cell_type": "code",
   "execution_count": 125,
   "metadata": {
    "collapsed": false,
    "pycharm": {
     "name": "#%%\n"
    }
   },
   "outputs": [],
   "source": [
    "c = conv_2(b)"
   ]
  },
  {
   "cell_type": "code",
   "execution_count": 126,
   "metadata": {
    "collapsed": false,
    "pycharm": {
     "name": "#%%\n"
    }
   },
   "outputs": [],
   "source": [
    "d = conv_3(c)"
   ]
  },
  {
   "cell_type": "code",
   "execution_count": 127,
   "metadata": {
    "collapsed": false,
    "pycharm": {
     "name": "#%%\n"
    }
   },
   "outputs": [
    {
     "name": "stdout",
     "output_type": "stream",
     "text": [
      "torch.Size([32, 3, 256, 256]) torch.Size([32, 64, 128, 128]) torch.Size([32, 128, 64, 64]) torch.Size([32, 256, 32, 32])\n"
     ]
    }
   ],
   "source": [
    "print(a.shape, b.shape, c.shape, d.shape)"
   ]
  },
  {
   "cell_type": "code",
   "execution_count": null,
   "metadata": {
    "collapsed": false,
    "pycharm": {
     "name": "#%%\n"
    }
   },
   "outputs": [],
   "source": [
    "# Encoder\n"
   ]
  },
  {
   "cell_type": "code",
   "execution_count": 4,
   "metadata": {
    "collapsed": false,
    "pycharm": {
     "name": "#%%\n"
    }
   },
   "outputs": [
    {
     "name": "stdout",
     "output_type": "stream",
     "text": [
      "32\n"
     ]
    }
   ],
   "source": [
    "import torch\n",
    "import torch.nn.functional as F\n",
    "\n",
    "x = torch.randn(32, 512, 16, 16)\n",
    "x_upsampled = F.interpolate(x, size=(32, 32), mode='bilinear', align_corners=True)[:, :256, :, :]\n",
    "print(x_upsampled.shape[0])\n",
    "# 输出：torch.Size([32, 256, 32, 32])"
   ]
  },
  {
   "cell_type": "code",
   "execution_count": 43,
   "metadata": {
    "collapsed": false,
    "pycharm": {
     "name": "#%%\n"
    }
   },
   "outputs": [],
   "source": [
    "import cv2\n",
    "import matplotlib.pyplot as plt\n",
    "image = r'./TransUnet/Image/Picture/000.jpg'\n",
    "label = r'./TransUnet/Image/Label/000.png'"
   ]
  },
  {
   "cell_type": "code",
   "execution_count": 44,
   "metadata": {
    "collapsed": false,
    "pycharm": {
     "name": "#%%\n"
    }
   },
   "outputs": [
    {
     "data": {
      "text/plain": [
       "Text(0.5, 1.0, 'Label')"
      ]
     },
     "execution_count": 44,
     "metadata": {},
     "output_type": "execute_result"
    },
    {
     "data": {
      "image/png": "[encoded data removed]",
      "text/plain": [
       "<Figure size 720x360 with 2 Axes>"
      ]
     },
     "metadata": {
      "needs_background": "light"
     },
     "output_type": "display_data"
    }
   ],
   "source": [
    "image = cv2.imread(image)\n",
    "label = cv2.imread(label)\n",
    "\n",
    "fig, (ax1, ax2) = plt.subplots(1, 2, figsize=(10, 5))\n",
    "ax1.imshow(image)\n",
    "# ax1.imshow(np.asarray(label), alpha=0.1)\n",
    "ax1.set_title('Picture')\n",
    "ax2.imshow(label)\n",
    "ax2.set_title('Label')"
   ]
  },
  {
   "cell_type": "code",
   "execution_count": 45,
   "metadata": {
    "collapsed": false,
    "pycharm": {
     "name": "#%%\n"
    }
   },
   "outputs": [],
   "source": [
    "label = torch.tensor(label, dtype=torch.long)"
   ]
  },
  {
   "cell_type": "code",
   "execution_count": 60,
   "metadata": {
    "collapsed": false,
    "pycharm": {
     "name": "#%%\n"
    }
   },
   "outputs": [
    {
     "data": {
      "text/plain": [
       "tensor([0, 0, 0])"
      ]
     },
     "execution_count": 60,
     "metadata": {},
     "output_type": "execute_result"
    }
   ],
   "source": [
    "label[0,0,:]"
   ]
  },
  {
   "cell_type": "code",
   "execution_count": 26,
   "metadata": {
    "collapsed": false,
    "pycharm": {
     "name": "#%%\n"
    }
   },
   "outputs": [],
   "source": [
    "label = torch.rand(size=(16, 23, 128, 128))"
   ]
  },
  {
   "cell_type": "code",
   "execution_count": 50,
   "metadata": {
    "collapsed": false,
    "pycharm": {
     "name": "#%%\n"
    }
   },
   "outputs": [
    {
     "data": {
      "text/plain": [
       "tensor([[0, 0, 0,  ..., 0, 0, 0],\n",
       "        [0, 0, 0,  ..., 0, 0, 0],\n",
       "        [0, 0, 0,  ..., 0, 0, 0],\n",
       "        ...,\n",
       "        [0, 0, 0,  ..., 0, 0, 0],\n",
       "        [0, 0, 0,  ..., 0, 0, 0],\n",
       "        [0, 0, 0,  ..., 0, 0, 0]])"
      ]
     },
     "execution_count": 50,
     "metadata": {},
     "output_type": "execute_result"
    }
   ],
   "source": [
    "label.argmax(dim=-1)"
   ]
  },
  {
   "cell_type": "code",
   "execution_count": 18,
   "metadata": {
    "collapsed": false,
    "pycharm": {
     "name": "#%%\n"
    }
   },
   "outputs": [],
   "source": [
    "import torch.nn.functional as F\n",
    "import torch.nn as nn\n",
    "import torch\n",
    "# 定义交叉熵损失函数\n",
    "criterion = nn.CrossEntropyLoss()\n",
    "\n",
    "# 输入数据\n",
    "inputs = torch.randn(1, 3, 256, 256)\n",
    "# 真实标签\n",
    "labels = torch.tensor([[[0, 1, 1], [1, 0, 0], [0, 1, 0]]], dtype=torch.long)\n",
    "\n",
    "# 前向传播\n",
    "# outputs = model(inputs)\n",
    "# 计算损失\n",
    "# loss = criterion(outputs, labels)"
   ]
  },
  {
   "cell_type": "code",
   "execution_count": 19,
   "metadata": {
    "collapsed": false,
    "pycharm": {
     "name": "#%%\n"
    }
   },
   "outputs": [
    {
     "data": {
      "text/plain": [
       "torch.Size([1, 3, 3])"
      ]
     },
     "execution_count": 19,
     "metadata": {},
     "output_type": "execute_result"
    }
   ],
   "source": [
    "labels.shape"
   ]
  },
  {
   "cell_type": "code",
   "execution_count": 24,
   "metadata": {
    "collapsed": false,
    "pycharm": {
     "name": "#%%\n"
    }
   },
   "outputs": [],
   "source": [
    "a = torch.rand(size=(16, 23, 128, 256))\n",
    "b = torch.rand(size=(16, 128, 256))"
   ]
  },
  {
   "cell_type": "code",
   "execution_count": 25,
   "metadata": {
    "collapsed": false,
    "pycharm": {
     "name": "#%%\n"
    }
   },
   "outputs": [
    {
     "ename": "RuntimeError",
     "evalue": "\"log_softmax\" not implemented for 'Long'",
     "output_type": "error",
     "traceback": [
      "\u001B[1;31m---------------------------------------------------------------------------\u001B[0m",
      "\u001B[1;31mRuntimeError\u001B[0m                              Traceback (most recent call last)",
      "Input \u001B[1;32mIn [25]\u001B[0m, in \u001B[0;36m<cell line: 1>\u001B[1;34m()\u001B[0m\n\u001B[1;32m----> 1\u001B[0m \u001B[43mcriterion\u001B[49m\u001B[43m(\u001B[49m\u001B[43ma\u001B[49m\u001B[43m,\u001B[49m\u001B[43m \u001B[49m\u001B[43mb\u001B[49m\u001B[43m)\u001B[49m\n",
      "File \u001B[1;32mF:\\python\\miniconda3\\lib\\site-packages\\torch\\nn\\modules\\module.py:1130\u001B[0m, in \u001B[0;36mModule._call_impl\u001B[1;34m(self, *input, **kwargs)\u001B[0m\n\u001B[0;32m   1126\u001B[0m \u001B[38;5;66;03m# If we don't have any hooks, we want to skip the rest of the logic in\u001B[39;00m\n\u001B[0;32m   1127\u001B[0m \u001B[38;5;66;03m# this function, and just call forward.\u001B[39;00m\n\u001B[0;32m   1128\u001B[0m \u001B[38;5;28;01mif\u001B[39;00m \u001B[38;5;129;01mnot\u001B[39;00m (\u001B[38;5;28mself\u001B[39m\u001B[38;5;241m.\u001B[39m_backward_hooks \u001B[38;5;129;01mor\u001B[39;00m \u001B[38;5;28mself\u001B[39m\u001B[38;5;241m.\u001B[39m_forward_hooks \u001B[38;5;129;01mor\u001B[39;00m \u001B[38;5;28mself\u001B[39m\u001B[38;5;241m.\u001B[39m_forward_pre_hooks \u001B[38;5;129;01mor\u001B[39;00m _global_backward_hooks\n\u001B[0;32m   1129\u001B[0m         \u001B[38;5;129;01mor\u001B[39;00m _global_forward_hooks \u001B[38;5;129;01mor\u001B[39;00m _global_forward_pre_hooks):\n\u001B[1;32m-> 1130\u001B[0m     \u001B[38;5;28;01mreturn\u001B[39;00m forward_call(\u001B[38;5;241m*\u001B[39m\u001B[38;5;28minput\u001B[39m, \u001B[38;5;241m*\u001B[39m\u001B[38;5;241m*\u001B[39mkwargs)\n\u001B[0;32m   1131\u001B[0m \u001B[38;5;66;03m# Do not call functions when jit is used\u001B[39;00m\n\u001B[0;32m   1132\u001B[0m full_backward_hooks, non_full_backward_hooks \u001B[38;5;241m=\u001B[39m [], []\n",
      "File \u001B[1;32mF:\\python\\miniconda3\\lib\\site-packages\\torch\\nn\\modules\\loss.py:1164\u001B[0m, in \u001B[0;36mCrossEntropyLoss.forward\u001B[1;34m(self, input, target)\u001B[0m\n\u001B[0;32m   1163\u001B[0m \u001B[38;5;28;01mdef\u001B[39;00m \u001B[38;5;21mforward\u001B[39m(\u001B[38;5;28mself\u001B[39m, \u001B[38;5;28minput\u001B[39m: Tensor, target: Tensor) \u001B[38;5;241m-\u001B[39m\u001B[38;5;241m>\u001B[39m Tensor:\n\u001B[1;32m-> 1164\u001B[0m     \u001B[38;5;28;01mreturn\u001B[39;00m \u001B[43mF\u001B[49m\u001B[38;5;241;43m.\u001B[39;49m\u001B[43mcross_entropy\u001B[49m\u001B[43m(\u001B[49m\u001B[38;5;28;43minput\u001B[39;49m\u001B[43m,\u001B[49m\u001B[43m \u001B[49m\u001B[43mtarget\u001B[49m\u001B[43m,\u001B[49m\u001B[43m \u001B[49m\u001B[43mweight\u001B[49m\u001B[38;5;241;43m=\u001B[39;49m\u001B[38;5;28;43mself\u001B[39;49m\u001B[38;5;241;43m.\u001B[39;49m\u001B[43mweight\u001B[49m\u001B[43m,\u001B[49m\n\u001B[0;32m   1165\u001B[0m \u001B[43m                           \u001B[49m\u001B[43mignore_index\u001B[49m\u001B[38;5;241;43m=\u001B[39;49m\u001B[38;5;28;43mself\u001B[39;49m\u001B[38;5;241;43m.\u001B[39;49m\u001B[43mignore_index\u001B[49m\u001B[43m,\u001B[49m\u001B[43m \u001B[49m\u001B[43mreduction\u001B[49m\u001B[38;5;241;43m=\u001B[39;49m\u001B[38;5;28;43mself\u001B[39;49m\u001B[38;5;241;43m.\u001B[39;49m\u001B[43mreduction\u001B[49m\u001B[43m,\u001B[49m\n\u001B[0;32m   1166\u001B[0m \u001B[43m                           \u001B[49m\u001B[43mlabel_smoothing\u001B[49m\u001B[38;5;241;43m=\u001B[39;49m\u001B[38;5;28;43mself\u001B[39;49m\u001B[38;5;241;43m.\u001B[39;49m\u001B[43mlabel_smoothing\u001B[49m\u001B[43m)\u001B[49m\n",
      "File \u001B[1;32mF:\\python\\miniconda3\\lib\\site-packages\\torch\\nn\\functional.py:3014\u001B[0m, in \u001B[0;36mcross_entropy\u001B[1;34m(input, target, weight, size_average, ignore_index, reduce, reduction, label_smoothing)\u001B[0m\n\u001B[0;32m   3012\u001B[0m \u001B[38;5;28;01mif\u001B[39;00m size_average \u001B[38;5;129;01mis\u001B[39;00m \u001B[38;5;129;01mnot\u001B[39;00m \u001B[38;5;28;01mNone\u001B[39;00m \u001B[38;5;129;01mor\u001B[39;00m reduce \u001B[38;5;129;01mis\u001B[39;00m \u001B[38;5;129;01mnot\u001B[39;00m \u001B[38;5;28;01mNone\u001B[39;00m:\n\u001B[0;32m   3013\u001B[0m     reduction \u001B[38;5;241m=\u001B[39m _Reduction\u001B[38;5;241m.\u001B[39mlegacy_get_string(size_average, reduce)\n\u001B[1;32m-> 3014\u001B[0m \u001B[38;5;28;01mreturn\u001B[39;00m \u001B[43mtorch\u001B[49m\u001B[38;5;241;43m.\u001B[39;49m\u001B[43m_C\u001B[49m\u001B[38;5;241;43m.\u001B[39;49m\u001B[43m_nn\u001B[49m\u001B[38;5;241;43m.\u001B[39;49m\u001B[43mcross_entropy_loss\u001B[49m\u001B[43m(\u001B[49m\u001B[38;5;28;43minput\u001B[39;49m\u001B[43m,\u001B[49m\u001B[43m \u001B[49m\u001B[43mtarget\u001B[49m\u001B[43m,\u001B[49m\u001B[43m \u001B[49m\u001B[43mweight\u001B[49m\u001B[43m,\u001B[49m\u001B[43m \u001B[49m\u001B[43m_Reduction\u001B[49m\u001B[38;5;241;43m.\u001B[39;49m\u001B[43mget_enum\u001B[49m\u001B[43m(\u001B[49m\u001B[43mreduction\u001B[49m\u001B[43m)\u001B[49m\u001B[43m,\u001B[49m\u001B[43m \u001B[49m\u001B[43mignore_index\u001B[49m\u001B[43m,\u001B[49m\u001B[43m \u001B[49m\u001B[43mlabel_smoothing\u001B[49m\u001B[43m)\u001B[49m\n",
      "\u001B[1;31mRuntimeError\u001B[0m: \"log_softmax\" not implemented for 'Long'"
     ]
    }
   ],
   "source": [
    "criterion(a, b)"
   ]
  },
  {
   "cell_type": "code",
   "execution_count": 63,
   "metadata": {
    "collapsed": false,
    "pycharm": {
     "name": "#%%\n"
    }
   },
   "outputs": [],
   "source": [
    "mask = r'./TransUnet/Image/Mask/000.png'"
   ]
  },
  {
   "cell_type": "code",
   "execution_count": 64,
   "metadata": {
    "collapsed": false,
    "pycharm": {
     "name": "#%%\n"
    }
   },
   "outputs": [],
   "source": [
    "import cv2\n",
    "import torch\n",
    "mask = cv2.imread(mask)"
   ]
  },
  {
   "cell_type": "code",
   "execution_count": 18,
   "metadata": {
    "collapsed": false,
    "pycharm": {
     "name": "#%%\n"
    }
   },
   "outputs": [
    {
     "data": {
      "text/plain": [
       "tensor([[0, 0, 0,  ..., 0, 0, 0],\n",
       "        [0, 0, 0,  ..., 0, 0, 0],\n",
       "        [0, 0, 0,  ..., 0, 0, 0],\n",
       "        ...,\n",
       "        [0, 0, 0,  ..., 0, 0, 0],\n",
       "        [0, 0, 0,  ..., 0, 0, 0],\n",
       "        [0, 0, 0,  ..., 0, 0, 0]])"
      ]
     },
     "execution_count": 18,
     "metadata": {},
     "output_type": "execute_result"
    }
   ],
   "source": [
    "torch.argmax(torch.tensor(mask), dim=-1)"
   ]
  },
  {
   "cell_type": "code",
   "execution_count": null,
   "metadata": {
    "collapsed": false,
    "pycharm": {
     "name": "#%%\n"
    }
   },
   "outputs": [],
   "source": [
    "def show(image, num_class):\n",
    "    label_colors = np.array([(0, 0, 0),  # 0=background\n",
    "                             # 1=aeroplane, 2=bicycle, 3=bird, 4=boat, 5=bottle\n",
    "                             (128, 64, 128), (130, 76, 0), (0, 102, 0), (112, 103, 87), (28, 42, 168),\n",
    "                             # 6=bus, 7=car, 8=cat, 9=chair, 10=cow\n",
    "                             (48, 41, 30), (0, 50, 89), (107, 142, 35), (70, 70, 70), (102, 102, 156),\n",
    "                             # 11=dining table, 12=dog, 13=horse, 14=motorbike, 15=person\n",
    "                             (254, 228, 12), (254, 148, 12), (190, 153, 153), (153, 153, 153), (255, 22, 96),\n",
    "                             # 16=potted plant, 17=sheep, 18=sofa, 19=train, 20=tv/monitor\n",
    "                             (102, 51, 0), (9, 143, 150), (119, 11, 32), (51, 51, 0), (190, 250, 190),\n",
    "                             # 21=ar-marker 22=obstacle  23=conflicting\n",
    "                             (112, 150, 146), (2, 135, 115), (255, 0, 0)])\n",
    "\n",
    "    r = np.zeros_like(image).astype(np.uint8)\n",
    "    g = np.zeros_like(image).astype(np.uint8)\n",
    "    b = np.zeros_like(image).astype(np.uint8)\n",
    "\n",
    "    for l in range(0, num_class):\n",
    "        idx = image == l\n",
    "        r[idx] = label_colors[l, 0]\n",
    "        g[idx] = label_colors[l, 1]\n",
    "        b[idx] = label_colors[l, 2]\n",
    "\n",
    "    rgb = np.stack([r, g, b], axis=2)\n",
    "    return rgb"
   ]
  },
  {
   "cell_type": "code",
   "execution_count": 89,
   "metadata": {
    "collapsed": false,
    "pycharm": {
     "name": "#%%\n"
    }
   },
   "outputs": [
    {
     "data": {
      "text/plain": [
       "tensor([[[  0,   0,   0],\n",
       "         [  0,   0,   0],\n",
       "         [  0,   0,   0],\n",
       "         ...,\n",
       "         [  0,   0,   0],\n",
       "         [  0,   0,   0],\n",
       "         [  0,   0,   0]],\n",
       "\n",
       "        [[  0,   0,   0],\n",
       "         [  0,   0,   0],\n",
       "         [  0,   0,   0],\n",
       "         ...,\n",
       "         [128,  64, 128],\n",
       "         [128,  64, 128],\n",
       "         [128,  64, 128]],\n",
       "\n",
       "        [[  0,   0,   0],\n",
       "         [  0,   0,   0],\n",
       "         [  0,   0,   0],\n",
       "         ...,\n",
       "         [128,  64, 128],\n",
       "         [128,  64, 128],\n",
       "         [128,  64, 128]],\n",
       "\n",
       "        ...,\n",
       "\n",
       "        [[  0,   0,   0],\n",
       "         [  0,   0,   0],\n",
       "         [  0,   0,   0],\n",
       "         ...,\n",
       "         [  0,   0,   0],\n",
       "         [  0,   0,   0],\n",
       "         [  0,   0,   0]],\n",
       "\n",
       "        [[  0,   0,   0],\n",
       "         [  0,   0,   0],\n",
       "         [  0,   0,   0],\n",
       "         ...,\n",
       "         [  0,   0,   0],\n",
       "         [  0,   0,   0],\n",
       "         [  0,   0,   0]],\n",
       "\n",
       "        [[  0,   0,   0],\n",
       "         [  0,   0,   0],\n",
       "         [  0,   0,   0],\n",
       "         ...,\n",
       "         [  0,   0,   0],\n",
       "         [  0,   0,   0],\n",
       "         [  0,   0,   0]]], dtype=torch.uint8)"
      ]
     },
     "execution_count": 89,
     "metadata": {},
     "output_type": "execute_result"
    }
   ],
   "source": [
    "label"
   ]
  },
  {
   "cell_type": "code",
   "execution_count": 127,
   "metadata": {
    "collapsed": false,
    "pycharm": {
     "name": "#%%\n"
    }
   },
   "outputs": [
    {
     "data": {
      "text/plain": [
       "tensor([ 35, 142, 107], dtype=torch.uint8)"
      ]
     },
     "execution_count": 127,
     "metadata": {},
     "output_type": "execute_result"
    }
   ],
   "source": [
    "from torchvision.transforms import Compose, ToTensor, Resize, Normalize\n",
    "\n",
    "compose = Compose([ToTensor(), Resize((128, 256))])\n",
    "\n",
    "label = cv2.imread(r'./TransUnet/Image/Label/000.png')\n",
    "label = torch.tensor(cv2.resize(label, (256, 128)))\n",
    "\n",
    "label[0,0,:]"
   ]
  },
  {
   "cell_type": "code",
   "execution_count": 131,
   "metadata": {
    "collapsed": false,
    "pycharm": {
     "name": "#%%\n"
    }
   },
   "outputs": [
    {
     "name": "stderr",
     "output_type": "stream",
     "text": [
      "C:\\Users\\1\\AppData\\Local\\Temp\\ipykernel_17600\\1731802956.py:17: UserWarning: To copy construct from a tensor, it is recommended to use sourceTensor.clone().detach() or sourceTensor.clone().detach().requires_grad_(True), rather than torch.tensor(sourceTensor).\n",
      "  if torch.tensor(image[i,j,:]) in colors_list:\n"
     ]
    }
   ],
   "source": [
    "import numpy as np\n",
    "def change(height, width, image):\n",
    "    new_image = np.zeros(shape=(height, width))\n",
    "    colors_list = [# (0, 0, 0),  # 0=background\n",
    "                 # 1=aeroplane, 2=bicycle, 3=bird, 4=boat, 5=bottle\n",
    "                 (128, 64, 128), (130, 76, 0), (0, 102, 0), (112, 103, 87), (28, 42, 168),\n",
    "                 # 6=bus, 7=car, 8=cat, 9=chair, 10=cow\n",
    "                 (48, 41, 30), (0, 50, 89), (107, 142, 35), (70, 70, 70), (102, 102, 156),\n",
    "                 # 11=dining table, 12=dog, 13=horse, 14=motorbike, 15=person\n",
    "                 (254, 228, 12), (254, 148, 12), (190, 153, 153), (153, 153, 153), (255, 22, 96),\n",
    "                 # 16=potted plant, 17=sheep, 18=sofa, 19=train, 20=tv/monitor\n",
    "                 (102, 51, 0), (9, 143, 150), (119, 11, 32), (51, 51, 0), (190, 250, 190),\n",
    "                 # 21=ar-marker 22=obstacle  23=conflicting\n",
    "                 (112, 150, 146), (2, 135, 115), (255, 0, 0)]\n",
    "    for i in range(height):\n",
    "        for j in range(width):\n",
    "            if torch.tensor(image[i,j,:]) in colors_list:\n",
    "                print(image[i,j,:])\n",
    "                new_image[i,j] = colors_list.index(image[i,j,:])\n",
    "    return new_image\n",
    "\n",
    "new_label = change(height=128, width=256, image=label)"
   ]
  },
  {
   "cell_type": "markdown",
   "metadata": {
    "collapsed": false,
    "pycharm": {
     "name": "#%% md\n"
    }
   },
   "source": []
  },
  {
   "cell_type": "code",
   "execution_count": 135,
   "metadata": {
    "collapsed": false,
    "pycharm": {
     "name": "#%%\n"
    }
   },
   "outputs": [
    {
     "data": {
      "text/plain": [
       "0.0"
      ]
     },
     "execution_count": 135,
     "metadata": {},
     "output_type": "execute_result"
    }
   ],
   "source": [
    "new_label.max()"
   ]
  },
  {
   "cell_type": "code",
   "execution_count": 134,
   "metadata": {
    "collapsed": false,
    "pycharm": {
     "name": "#%%\n"
    }
   },
   "outputs": [
    {
     "data": {
      "text/plain": [
       "<matplotlib.image.AxesImage at 0x15d17f9d5b0>"
      ]
     },
     "execution_count": 134,
     "metadata": {},
     "output_type": "execute_result"
    },
    {
     "data": {
      "image/png": "[encoded data removed]",
      "text/plain": [
       "<Figure size 432x288 with 1 Axes>"
      ]
     },
     "metadata": {
      "needs_background": "light"
     },
     "output_type": "display_data"
    }
   ],
   "source": [
    "plt.imshow(new_label)"
   ]
  },
  {
   "cell_type": "code",
   "execution_count": 108,
   "metadata": {
    "collapsed": false,
    "pycharm": {
     "name": "#%%\n"
    }
   },
   "outputs": [
    {
     "data": {
      "text/plain": [
       "tensor([0.0000, 0.2000, 0.2000])"
      ]
     },
     "execution_count": 108,
     "metadata": {},
     "output_type": "execute_result"
    }
   ],
   "source": [
    "label[127, 150,:]"
   ]
  },
  {
   "cell_type": "code",
   "execution_count": 2,
   "metadata": {
    "collapsed": false,
    "pycharm": {
     "name": "#%%\n"
    }
   },
   "outputs": [],
   "source": [
    "import cv2\n",
    "\n",
    "img = cv2.imread(r'TransUnet/image/train/train-org-img/6344.jpg')"
   ]
  },
  {
   "cell_type": "code",
   "execution_count": 3,
   "metadata": {},
   "outputs": [
    {
     "data": {
      "text/plain": [
       "(3000, 4000, 3)"
      ]
     },
     "execution_count": 3,
     "metadata": {},
     "output_type": "execute_result"
    }
   ],
   "source": [
    "img.shape"
   ]
  },
  {
   "cell_type": "code",
   "execution_count": 17,
   "metadata": {},
   "outputs": [],
   "source": [
    "label = cv2.imread(r'TransUnet/image/train/train-label-img/6279_lab.png', cv2.IMREAD_GRAYSCALE)"
   ]
  },
  {
   "cell_type": "code",
   "execution_count": 19,
   "metadata": {},
   "outputs": [
    {
     "data": {
      "text/plain": [
       "array([[6, 6, 6, 6, 6, 6, 6, 6, 6, 6],\n",
       "       [6, 6, 6, 6, 6, 6, 6, 6, 6, 6],\n",
       "       [6, 6, 6, 6, 6, 6, 6, 6, 6, 6],\n",
       "       [6, 6, 6, 6, 6, 6, 6, 6, 6, 6],\n",
       "       [6, 6, 6, 6, 6, 6, 6, 6, 6, 6],\n",
       "       [6, 6, 6, 6, 6, 6, 6, 6, 6, 6],\n",
       "       [6, 6, 6, 6, 6, 6, 6, 6, 6, 6],\n",
       "       [6, 6, 6, 6, 6, 6, 6, 6, 6, 6],\n",
       "       [6, 6, 6, 6, 6, 6, 6, 6, 6, 6],\n",
       "       [6, 6, 6, 6, 6, 6, 6, 6, 6, 6]], dtype=uint8)"
      ]
     },
     "execution_count": 19,
     "metadata": {},
     "output_type": "execute_result"
    }
   ],
   "source": [
    "label[0:10,0:10]"
   ]
  },
  {
   "cell_type": "code",
   "execution_count": 31,
   "metadata": {},
   "outputs": [],
   "source": [
    "from torchvision.transforms import Compose, ToTensor, Normalize, Resize, ToPILImage, PILToTensor\n",
    "\n",
    "\n",
    "transformers = Compose([\n",
    "    ToPILImage(), \n",
    "    PILToTensor(), \n",
    "    Resize((128, 256)),\n",
    "    # Normalize(0, 1/255)\n",
    "])"
   ]
  },
  {
   "cell_type": "code",
   "execution_count": 34,
   "metadata": {},
   "outputs": [
    {
     "data": {
      "text/plain": [
       "tensor([[[6, 6, 6,  ..., 9, 9, 9],\n",
       "         [6, 6, 6,  ..., 9, 9, 9],\n",
       "         [6, 6, 6,  ..., 9, 9, 9],\n",
       "         ...,\n",
       "         [6, 6, 6,  ..., 9, 9, 9],\n",
       "         [6, 6, 6,  ..., 9, 9, 9],\n",
       "         [6, 6, 6,  ..., 9, 9, 9]]], dtype=torch.uint8)"
      ]
     },
     "execution_count": 34,
     "metadata": {},
     "output_type": "execute_result"
    }
   ],
   "source": [
    "transformers(label)[0:10,0:10]"
   ]
  },
  {
   "cell_type": "code",
   "execution_count": 8,
   "metadata": {},
   "outputs": [],
   "source": [
    "import numpy as np\n",
    "\n",
    "matrix = np.array([\n",
    "    [1,2,3,4],\n",
    "    [2,3,4,5],\n",
    "    [3,4,5,5]\n",
    "])\n",
    "\n",
    "c = np.zeros_like(matrix)"
   ]
  },
  {
   "cell_type": "code",
   "execution_count": 9,
   "outputs": [],
   "source": [
    "b = [100, 99, 98, 97, 96, 95]"
   ],
   "metadata": {
    "collapsed": false,
    "pycharm": {
     "name": "#%%\n"
    }
   }
  },
  {
   "cell_type": "code",
   "execution_count": 10,
   "outputs": [
    {
     "name": "stdout",
     "output_type": "stream",
     "text": [
      "[[False False False False]\n",
      " [False False False False]\n",
      " [False False False False]]\n",
      "[[ True False False False]\n",
      " [False False False False]\n",
      " [False False False False]]\n",
      "[[False  True False False]\n",
      " [ True False False False]\n",
      " [False False False False]]\n",
      "[[False False  True False]\n",
      " [False  True False False]\n",
      " [ True False False False]]\n",
      "[[False False False  True]\n",
      " [False False  True False]\n",
      " [False  True False False]]\n",
      "[[False False False False]\n",
      " [False False False  True]\n",
      " [False False  True  True]]\n"
     ]
    }
   ],
   "source": [
    "for i in range(0, len(b)):\n",
    "    idx = matrix == i\n",
    "    print(idx)\n"
   ],
   "metadata": {
    "collapsed": false,
    "pycharm": {
     "name": "#%%\n"
    }
   }
  },
  {
   "cell_type": "code",
   "execution_count": 8,
   "outputs": [],
   "source": [
    "def aS(a, b, c=None):\n",
    "    if not c:\n",
    "        print(a,b,c)\n",
    "aS(1,2,3)\n"
   ],
   "metadata": {
    "collapsed": false,
    "pycharm": {
     "name": "#%%\n"
    }
   }
  },
  {
   "cell_type": "code",
   "execution_count": 9,
   "outputs": [],
   "source": [
    "import torch\n",
    "import torch.nn as nn\n",
    "\n",
    "a = torch.rand(size=(16, 32, 64, 128))"
   ],
   "metadata": {
    "collapsed": false,
    "pycharm": {
     "name": "#%%\n"
    }
   }
  },
  {
   "cell_type": "code",
   "execution_count": null,
   "outputs": [],
   "source": [],
   "metadata": {
    "collapsed": false,
    "pycharm": {
     "name": "#%%\n"
    }
   }
  },
  {
   "cell_type": "code",
   "execution_count": 10,
   "outputs": [],
   "source": [
    "net = nn.Upsample(scale_factor=2, mode='bilinear')\n",
    "b = net(a)"
   ],
   "metadata": {
    "collapsed": false,
    "pycharm": {
     "name": "#%%\n"
    }
   }
  },
  {
   "cell_type": "code",
   "execution_count": 11,
   "outputs": [
    {
     "data": {
      "text/plain": "torch.Size([16, 32, 128, 256])"
     },
     "execution_count": 11,
     "metadata": {},
     "output_type": "execute_result"
    }
   ],
   "source": [
    "b.shape"
   ],
   "metadata": {
    "collapsed": false,
    "pycharm": {
     "name": "#%%\n"
    }
   }
  },
  {
   "cell_type": "code",
   "execution_count": 12,
   "outputs": [
    {
     "data": {
      "text/plain": "tensor([[[[6.2467e-02, 7.7559e-01, 7.5652e-01,  ..., 1.4203e-01,\n           7.4565e-02, 1.0441e-01],\n          [4.7124e-01, 2.4700e-01, 1.3965e-01,  ..., 9.4997e-01,\n           7.6073e-01, 5.6574e-01],\n          [7.6985e-01, 2.3090e-01, 7.6196e-01,  ..., 1.1826e-01,\n           7.2398e-01, 3.5588e-01],\n          ...,\n          [5.6791e-01, 1.9867e-01, 5.7635e-01,  ..., 6.0154e-01,\n           8.1504e-01, 2.0793e-01],\n          [8.5724e-01, 4.0357e-01, 5.3238e-02,  ..., 6.9366e-01,\n           9.8698e-01, 6.5280e-01],\n          [8.7125e-01, 9.6729e-01, 2.2833e-01,  ..., 1.3323e-01,\n           5.7132e-01, 9.4722e-01]],\n\n         [[2.7652e-01, 1.4083e-01, 5.7986e-01,  ..., 9.8531e-01,\n           4.7090e-01, 5.6883e-01],\n          [4.3372e-01, 7.8200e-01, 5.0952e-01,  ..., 2.3277e-01,\n           7.0138e-01, 6.7316e-01],\n          [8.5176e-02, 6.4031e-01, 8.5914e-01,  ..., 6.5693e-01,\n           9.8208e-01, 5.2345e-01],\n          ...,\n          [6.0781e-02, 1.4620e-02, 2.3018e-01,  ..., 9.0068e-01,\n           3.6142e-01, 9.1405e-01],\n          [4.0022e-01, 6.2402e-01, 8.4871e-01,  ..., 6.7468e-01,\n           4.2842e-01, 9.8519e-01],\n          [3.3665e-01, 9.6608e-01, 2.8259e-01,  ..., 9.0882e-01,\n           3.6931e-01, 5.7869e-02]],\n\n         [[2.3647e-01, 1.4638e-01, 7.3236e-01,  ..., 2.0751e-01,\n           2.0060e-01, 7.4718e-01],\n          [5.2866e-01, 9.6506e-02, 3.8507e-01,  ..., 2.0961e-01,\n           9.6072e-01, 5.1418e-01],\n          [4.4764e-01, 8.3282e-01, 7.3037e-02,  ..., 4.8204e-01,\n           6.4622e-01, 1.2119e-01],\n          ...,\n          [5.5773e-01, 4.1324e-01, 3.8997e-01,  ..., 6.9798e-01,\n           6.7256e-01, 4.0849e-01],\n          [7.3037e-01, 1.1747e-01, 2.5623e-02,  ..., 3.1302e-02,\n           5.9676e-01, 4.3072e-01],\n          [2.7480e-01, 6.1094e-01, 3.1937e-01,  ..., 9.8587e-01,\n           9.6380e-01, 9.8294e-01]],\n\n         ...,\n\n         [[3.6241e-01, 8.9224e-01, 4.0059e-01,  ..., 8.2379e-01,\n           4.8594e-01, 6.8786e-01],\n          [8.2102e-02, 8.2485e-02, 1.8472e-01,  ..., 8.0909e-01,\n           4.5303e-01, 5.8914e-01],\n          [1.2310e-02, 4.8454e-01, 7.7658e-01,  ..., 9.9009e-01,\n           4.7159e-01, 3.8974e-01],\n          ...,\n          [6.5347e-01, 7.3741e-01, 2.2716e-01,  ..., 9.2936e-01,\n           9.9920e-01, 6.9419e-01],\n          [8.1159e-01, 4.2899e-02, 6.6053e-01,  ..., 8.8167e-01,\n           9.8717e-01, 8.1351e-01],\n          [5.1218e-01, 9.4099e-01, 7.1254e-01,  ..., 3.2724e-01,\n           8.0718e-01, 3.1235e-01]],\n\n         [[5.2289e-01, 8.1280e-01, 8.6530e-01,  ..., 4.3977e-01,\n           5.5733e-01, 8.0827e-01],\n          [8.3573e-01, 2.1631e-01, 6.7566e-01,  ..., 1.3103e-01,\n           9.3998e-01, 4.7993e-01],\n          [5.1766e-01, 3.7575e-01, 8.4708e-01,  ..., 3.7815e-01,\n           4.5405e-01, 7.3077e-01],\n          ...,\n          [8.2184e-01, 4.3152e-01, 6.7704e-01,  ..., 8.3958e-01,\n           2.2569e-01, 6.6122e-01],\n          [9.9246e-01, 4.5105e-01, 6.0924e-01,  ..., 1.9611e-01,\n           9.5866e-02, 8.3793e-01],\n          [6.3079e-01, 4.8367e-01, 2.0469e-01,  ..., 9.4879e-01,\n           9.9015e-01, 2.7822e-01]],\n\n         [[2.6512e-04, 3.7382e-01, 7.4535e-01,  ..., 7.7824e-01,\n           5.9595e-01, 3.2357e-01],\n          [7.2885e-01, 9.3493e-01, 7.0149e-01,  ..., 9.7174e-01,\n           2.5845e-04, 8.2639e-02],\n          [4.8831e-01, 4.9490e-01, 7.2651e-01,  ..., 6.6039e-02,\n           1.1379e-01, 8.1323e-01],\n          ...,\n          [7.5149e-01, 9.7312e-01, 2.8959e-01,  ..., 5.1425e-01,\n           8.2072e-01, 2.7687e-01],\n          [9.7292e-01, 4.9473e-01, 9.9934e-01,  ..., 2.4582e-02,\n           7.9101e-02, 5.6895e-02],\n          [6.1485e-01, 5.8714e-01, 8.4422e-01,  ..., 8.0862e-01,\n           3.2101e-01, 8.3950e-01]]],\n\n\n        [[[9.8436e-01, 8.9899e-01, 6.1766e-01,  ..., 1.2883e-01,\n           1.8097e-01, 7.6869e-01],\n          [3.1567e-01, 4.5112e-01, 8.6444e-01,  ..., 3.9426e-01,\n           3.2778e-01, 6.4540e-01],\n          [5.4592e-01, 5.6091e-01, 4.1178e-01,  ..., 9.8365e-01,\n           2.2675e-01, 9.8751e-01],\n          ...,\n          [9.1202e-01, 4.8185e-01, 3.3571e-01,  ..., 3.3613e-02,\n           8.1667e-01, 1.4013e-01],\n          [1.4338e-01, 7.9269e-01, 1.2293e-01,  ..., 5.1709e-01,\n           9.7937e-01, 8.2551e-01],\n          [9.1670e-01, 3.8949e-01, 4.0764e-01,  ..., 7.0652e-01,\n           8.3447e-01, 5.6856e-01]],\n\n         [[2.2660e-01, 3.8847e-01, 2.8482e-01,  ..., 1.1953e-01,\n           5.3837e-01, 2.1010e-01],\n          [3.4872e-01, 9.9209e-01, 1.4347e-01,  ..., 4.9296e-01,\n           7.9177e-02, 3.2252e-01],\n          [4.9591e-01, 7.9063e-01, 9.7472e-01,  ..., 4.8464e-01,\n           9.5984e-01, 8.4849e-02],\n          ...,\n          [4.0054e-01, 5.1703e-01, 5.2013e-01,  ..., 4.8691e-01,\n           2.9386e-01, 7.6281e-03],\n          [3.3290e-01, 4.4788e-01, 3.9897e-01,  ..., 1.0120e-01,\n           6.5297e-02, 4.0310e-01],\n          [8.8653e-01, 8.4256e-01, 7.9909e-01,  ..., 1.5869e-01,\n           3.2838e-01, 6.5851e-01]],\n\n         [[8.8839e-01, 3.5659e-01, 6.6890e-01,  ..., 8.6438e-01,\n           2.0167e-01, 6.2731e-01],\n          [3.0153e-02, 3.5319e-01, 7.9885e-01,  ..., 7.2940e-01,\n           3.2935e-01, 6.4919e-01],\n          [6.7230e-01, 4.7909e-01, 6.3057e-01,  ..., 1.8733e-01,\n           8.7198e-01, 5.4399e-01],\n          ...,\n          [2.9728e-01, 5.8341e-01, 2.1265e-01,  ..., 5.7918e-01,\n           7.5519e-01, 3.8952e-01],\n          [2.0456e-01, 6.1247e-01, 3.5087e-02,  ..., 6.8693e-01,\n           6.6269e-01, 5.4543e-01],\n          [5.5943e-01, 5.4713e-01, 9.2199e-01,  ..., 5.9320e-01,\n           4.8504e-01, 5.6397e-01]],\n\n         ...,\n\n         [[3.7779e-01, 5.7993e-01, 3.3659e-01,  ..., 4.9312e-01,\n           5.0161e-01, 8.8764e-02],\n          [8.8261e-02, 8.4241e-01, 8.4879e-03,  ..., 6.4353e-01,\n           9.8779e-01, 1.1090e-01],\n          [2.4966e-01, 7.0824e-01, 7.4402e-01,  ..., 2.7475e-01,\n           1.1530e-01, 9.5993e-01],\n          ...,\n          [8.4018e-01, 6.7581e-01, 1.7208e-01,  ..., 6.2962e-01,\n           6.6715e-01, 8.4743e-01],\n          [9.6137e-01, 3.7505e-03, 7.7126e-01,  ..., 2.1408e-01,\n           2.2246e-01, 3.3963e-01],\n          [5.2046e-01, 5.6298e-01, 4.4206e-01,  ..., 8.5444e-02,\n           3.5768e-01, 7.1426e-01]],\n\n         [[9.7532e-01, 4.0848e-01, 3.8491e-01,  ..., 6.8206e-01,\n           2.0602e-01, 8.9802e-01],\n          [1.6902e-01, 2.4803e-01, 4.9505e-02,  ..., 6.7996e-02,\n           2.0047e-01, 6.6350e-01],\n          [4.6720e-01, 1.8786e-02, 7.7432e-01,  ..., 5.3112e-01,\n           4.0675e-02, 1.5704e-02],\n          ...,\n          [6.2177e-01, 6.0017e-01, 2.8746e-01,  ..., 7.1683e-02,\n           6.4258e-01, 3.7542e-02],\n          [6.8269e-01, 7.0580e-01, 8.1000e-01,  ..., 9.0726e-02,\n           1.9981e-01, 5.6555e-01],\n          [6.7782e-02, 3.6670e-01, 8.5206e-01,  ..., 3.1661e-01,\n           7.0532e-01, 3.0666e-01]],\n\n         [[5.5801e-01, 2.1884e-01, 1.4553e-01,  ..., 7.1226e-01,\n           5.4717e-01, 3.2344e-01],\n          [5.2306e-01, 6.4066e-01, 4.0182e-01,  ..., 6.0865e-01,\n           2.2518e-01, 2.7712e-01],\n          [9.8348e-01, 9.0925e-01, 7.8127e-01,  ..., 7.0715e-01,\n           6.6189e-01, 2.2882e-01],\n          ...,\n          [4.6169e-01, 6.9987e-01, 3.7609e-01,  ..., 4.5726e-01,\n           2.5898e-01, 8.0660e-01],\n          [4.3841e-01, 2.8893e-01, 8.3184e-01,  ..., 6.5889e-01,\n           6.3338e-01, 1.1572e-01],\n          [2.5710e-01, 9.7514e-01, 6.4133e-01,  ..., 1.4300e-01,\n           5.9358e-01, 3.5877e-01]]],\n\n\n        [[[5.0108e-01, 8.9472e-01, 8.1517e-01,  ..., 2.8681e-01,\n           4.1381e-01, 3.9238e-02],\n          [7.3977e-01, 4.5777e-01, 2.3074e-01,  ..., 6.3244e-01,\n           6.8534e-01, 1.7213e-01],\n          [3.3804e-02, 3.1080e-01, 4.0543e-01,  ..., 7.4106e-01,\n           1.5605e-01, 6.2493e-01],\n          ...,\n          [3.1107e-01, 9.5082e-01, 4.3389e-01,  ..., 9.9674e-01,\n           2.1303e-01, 7.6157e-01],\n          [2.6428e-01, 7.0361e-02, 8.2092e-01,  ..., 8.2128e-01,\n           6.3827e-01, 5.2417e-01],\n          [1.8310e-01, 5.2561e-01, 9.5752e-01,  ..., 5.7429e-01,\n           1.3731e-01, 5.2535e-01]],\n\n         [[9.4539e-01, 2.0125e-01, 2.7208e-01,  ..., 2.4686e-01,\n           6.2899e-01, 9.8866e-02],\n          [9.1121e-01, 6.3050e-01, 9.3176e-01,  ..., 6.1558e-01,\n           8.0635e-01, 1.4335e-01],\n          [9.8945e-01, 3.4909e-01, 6.0169e-01,  ..., 3.0525e-01,\n           8.1238e-01, 2.5722e-01],\n          ...,\n          [5.7466e-01, 8.7774e-01, 1.6051e-01,  ..., 3.1144e-01,\n           4.8568e-01, 8.7000e-01],\n          [9.1203e-01, 6.3070e-01, 3.0531e-01,  ..., 8.1665e-01,\n           6.3170e-01, 6.4121e-01],\n          [4.9152e-01, 3.2611e-01, 2.0033e-01,  ..., 7.8084e-01,\n           7.6809e-01, 4.2783e-01]],\n\n         [[9.8371e-01, 5.5513e-01, 1.8677e-01,  ..., 1.2476e-01,\n           5.9101e-01, 1.7153e-01],\n          [5.7605e-01, 6.9272e-01, 7.8764e-01,  ..., 9.2875e-01,\n           8.5497e-01, 1.3166e-01],\n          [2.2267e-01, 2.8570e-01, 8.3433e-01,  ..., 7.9141e-01,\n           3.4218e-01, 1.5923e-01],\n          ...,\n          [2.3863e-01, 6.1377e-01, 6.7520e-01,  ..., 4.1279e-01,\n           5.2685e-01, 6.8993e-01],\n          [1.9160e-01, 6.5082e-01, 6.9766e-01,  ..., 6.4703e-01,\n           9.1092e-01, 8.5282e-01],\n          [5.7817e-01, 5.8512e-01, 9.0265e-01,  ..., 1.8822e-01,\n           7.2017e-01, 2.8112e-01]],\n\n         ...,\n\n         [[6.4804e-01, 9.5464e-01, 1.1929e-01,  ..., 2.2076e-01,\n           8.3198e-01, 3.1772e-01],\n          [3.1512e-01, 2.2088e-01, 5.2445e-02,  ..., 6.1952e-02,\n           3.2895e-02, 9.8577e-01],\n          [3.1396e-01, 1.6397e-01, 5.5455e-02,  ..., 8.4217e-01,\n           5.6989e-01, 3.1748e-01],\n          ...,\n          [6.6870e-02, 6.5788e-01, 2.6845e-01,  ..., 5.0456e-01,\n           5.9231e-01, 4.0654e-01],\n          [4.9071e-01, 7.5142e-01, 8.8302e-01,  ..., 6.1448e-01,\n           9.4128e-01, 5.3505e-01],\n          [6.7915e-01, 4.6576e-02, 8.9859e-01,  ..., 8.4061e-01,\n           9.8832e-01, 7.3791e-02]],\n\n         [[8.2572e-01, 2.5746e-02, 4.7647e-02,  ..., 8.9683e-01,\n           5.3221e-01, 8.1633e-01],\n          [7.1414e-01, 6.1823e-01, 4.2329e-01,  ..., 7.6259e-01,\n           8.4234e-01, 3.9025e-01],\n          [1.8599e-02, 9.8319e-01, 3.4403e-01,  ..., 8.1223e-01,\n           7.1274e-01, 9.7175e-01],\n          ...,\n          [2.9298e-01, 7.1600e-01, 8.0462e-01,  ..., 6.0434e-01,\n           2.5939e-01, 9.1328e-01],\n          [2.9532e-01, 9.6285e-01, 1.8064e-01,  ..., 2.2930e-01,\n           5.2749e-01, 3.9917e-01],\n          [6.9775e-02, 7.1399e-01, 4.2727e-02,  ..., 6.8761e-01,\n           1.5643e-01, 9.0873e-01]],\n\n         [[4.0965e-01, 9.7318e-01, 7.4745e-01,  ..., 9.1687e-01,\n           9.3584e-02, 7.7598e-01],\n          [6.7872e-01, 7.1625e-01, 7.0100e-01,  ..., 8.9825e-01,\n           1.6784e-01, 8.0149e-01],\n          [3.1355e-02, 9.3702e-01, 9.0034e-01,  ..., 6.9460e-01,\n           8.1314e-01, 2.7422e-01],\n          ...,\n          [3.7706e-01, 1.5780e-01, 6.4065e-01,  ..., 9.5205e-01,\n           5.6737e-02, 2.3701e-01],\n          [8.9247e-02, 4.0721e-01, 8.0077e-01,  ..., 7.5431e-01,\n           9.6148e-02, 8.9225e-01],\n          [3.4099e-01, 7.2053e-01, 4.6251e-02,  ..., 8.1274e-01,\n           5.5948e-02, 3.0094e-01]]],\n\n\n        ...,\n\n\n        [[[4.5240e-01, 5.0934e-01, 9.3913e-01,  ..., 5.3115e-01,\n           8.2985e-01, 8.3391e-01],\n          [7.9523e-01, 2.7191e-01, 6.7755e-01,  ..., 3.3016e-01,\n           5.4087e-01, 6.3954e-01],\n          [2.1239e-01, 1.4387e-01, 3.3963e-01,  ..., 7.9649e-01,\n           3.8782e-01, 7.7453e-01],\n          ...,\n          [6.7091e-02, 9.2538e-01, 5.2713e-01,  ..., 2.5100e-01,\n           5.9579e-01, 4.5390e-01],\n          [1.6309e-01, 1.2010e-01, 7.4739e-02,  ..., 9.2882e-01,\n           9.5556e-01, 7.6081e-01],\n          [6.4289e-01, 2.3306e-01, 1.2923e-02,  ..., 1.2043e-01,\n           1.7789e-01, 2.4588e-01]],\n\n         [[6.9976e-01, 1.8933e-02, 4.1831e-01,  ..., 9.4992e-01,\n           3.6769e-01, 9.6537e-01],\n          [8.7557e-01, 7.4439e-01, 8.1899e-01,  ..., 5.1494e-01,\n           9.3724e-02, 8.0838e-01],\n          [4.2117e-01, 3.1891e-02, 7.8267e-01,  ..., 2.1545e-01,\n           5.5334e-01, 4.9066e-02],\n          ...,\n          [4.1763e-01, 2.2326e-02, 2.1375e-01,  ..., 4.8632e-02,\n           4.9150e-02, 4.8722e-01],\n          [2.8830e-01, 6.7156e-01, 2.5576e-01,  ..., 3.6557e-02,\n           7.8996e-01, 6.4161e-01],\n          [9.5546e-01, 6.5463e-01, 8.0253e-01,  ..., 6.6228e-01,\n           3.9049e-01, 5.3293e-01]],\n\n         [[6.4708e-01, 2.6050e-01, 6.3089e-01,  ..., 5.2044e-01,\n           4.3507e-01, 4.3004e-01],\n          [6.6678e-01, 9.2033e-01, 6.9956e-01,  ..., 6.7362e-01,\n           2.2809e-01, 4.4144e-01],\n          [5.1547e-01, 8.9251e-01, 5.0129e-01,  ..., 4.4823e-01,\n           2.7936e-01, 1.4163e-01],\n          ...,\n          [9.5840e-02, 8.5620e-01, 5.9582e-01,  ..., 4.8613e-01,\n           3.7119e-01, 2.7015e-01],\n          [3.0043e-01, 6.9956e-01, 1.7494e-01,  ..., 6.3081e-01,\n           8.6374e-01, 9.9769e-01],\n          [3.8684e-01, 9.2970e-01, 5.0072e-02,  ..., 6.1091e-01,\n           5.6090e-01, 2.5001e-01]],\n\n         ...,\n\n         [[7.1224e-01, 1.3258e-01, 3.0683e-01,  ..., 8.7650e-01,\n           5.3184e-02, 7.8344e-01],\n          [6.4039e-02, 3.8738e-01, 7.0727e-01,  ..., 4.1483e-01,\n           6.2356e-01, 5.5078e-02],\n          [7.0220e-01, 2.1258e-01, 6.1318e-01,  ..., 3.9474e-01,\n           8.0813e-01, 9.3980e-01],\n          ...,\n          [3.1099e-01, 2.5472e-01, 3.8962e-01,  ..., 2.4141e-02,\n           5.3967e-01, 3.6320e-01],\n          [5.4088e-01, 4.2131e-01, 7.3400e-01,  ..., 4.4597e-01,\n           2.9253e-01, 8.8986e-01],\n          [5.0247e-01, 2.6448e-01, 5.3132e-01,  ..., 2.4507e-01,\n           8.8993e-01, 7.6788e-01]],\n\n         [[6.5829e-01, 2.0697e-01, 8.8340e-01,  ..., 4.0554e-01,\n           9.1760e-01, 7.8170e-01],\n          [8.7276e-02, 2.3474e-01, 4.6225e-01,  ..., 8.3438e-01,\n           5.9899e-01, 1.3981e-01],\n          [5.5253e-01, 9.9449e-01, 7.6065e-01,  ..., 7.0937e-01,\n           7.7143e-01, 3.5886e-02],\n          ...,\n          [5.8453e-01, 9.3038e-01, 5.6810e-01,  ..., 5.8984e-01,\n           5.2234e-01, 7.4175e-01],\n          [5.9585e-01, 5.0469e-01, 9.5615e-01,  ..., 6.9585e-01,\n           9.8321e-01, 5.3895e-01],\n          [7.4900e-01, 2.4082e-01, 5.3728e-01,  ..., 5.5660e-01,\n           8.7398e-02, 4.9149e-01]],\n\n         [[6.7944e-01, 3.6532e-01, 4.9634e-01,  ..., 4.3207e-01,\n           3.3914e-01, 2.3326e-03],\n          [2.8486e-01, 4.3515e-01, 1.5619e-01,  ..., 6.6069e-01,\n           2.0333e-02, 2.6289e-01],\n          [7.5547e-02, 2.4148e-01, 7.5188e-01,  ..., 7.7995e-01,\n           1.0844e-01, 5.8566e-01],\n          ...,\n          [3.9418e-01, 2.3677e-01, 5.4799e-02,  ..., 8.2936e-01,\n           1.1651e-02, 9.5976e-01],\n          [2.6921e-01, 6.2862e-01, 1.9441e-01,  ..., 9.5611e-01,\n           9.5384e-03, 9.1687e-01],\n          [9.2666e-01, 9.5311e-01, 9.2018e-01,  ..., 7.9829e-01,\n           9.0556e-01, 6.6777e-01]]],\n\n\n        [[[1.4824e-01, 7.7585e-01, 6.6949e-01,  ..., 6.5472e-01,\n           3.4340e-01, 3.7552e-01],\n          [1.3312e-01, 9.6194e-01, 5.9764e-01,  ..., 5.0797e-01,\n           8.7441e-01, 6.3184e-01],\n          [7.6052e-01, 9.9467e-02, 9.6255e-02,  ..., 6.0980e-01,\n           6.0974e-01, 6.1139e-01],\n          ...,\n          [8.4926e-01, 3.2880e-02, 3.2544e-01,  ..., 1.6375e-01,\n           4.0671e-01, 8.9684e-01],\n          [8.5713e-01, 1.3215e-01, 2.9552e-01,  ..., 3.3868e-01,\n           9.8912e-01, 9.7372e-01],\n          [3.5242e-01, 2.1627e-01, 4.3952e-01,  ..., 6.5053e-01,\n           4.7189e-01, 8.8928e-01]],\n\n         [[8.8791e-01, 2.4948e-02, 7.1106e-01,  ..., 8.3903e-01,\n           6.9001e-01, 6.9182e-01],\n          [1.6618e-01, 1.0119e-01, 4.9520e-01,  ..., 9.9082e-01,\n           7.1172e-01, 6.8713e-01],\n          [5.4540e-01, 5.1683e-01, 8.3256e-01,  ..., 9.2275e-01,\n           7.4671e-02, 7.3884e-02],\n          ...,\n          [4.7452e-01, 5.1544e-01, 2.6283e-01,  ..., 5.7248e-01,\n           5.7569e-01, 6.8867e-01],\n          [5.8690e-01, 6.8247e-01, 8.6586e-01,  ..., 3.2610e-01,\n           4.4079e-01, 2.3205e-01],\n          [4.4585e-01, 8.9455e-01, 3.3835e-01,  ..., 7.7676e-01,\n           5.0408e-01, 6.1342e-01]],\n\n         [[4.2191e-01, 1.4102e-01, 5.4135e-01,  ..., 5.6706e-01,\n           6.4172e-01, 5.3628e-01],\n          [4.9346e-01, 1.4421e-01, 7.2688e-01,  ..., 8.3880e-02,\n           2.6157e-01, 1.5579e-01],\n          [1.1609e-01, 5.8727e-01, 6.4190e-01,  ..., 2.9782e-01,\n           8.0999e-01, 1.6192e-01],\n          ...,\n          [4.8113e-01, 4.3357e-01, 7.0413e-01,  ..., 5.4134e-01,\n           7.1057e-01, 2.1489e-01],\n          [9.3787e-01, 8.4661e-01, 3.6261e-01,  ..., 8.8872e-01,\n           5.8163e-01, 5.4207e-01],\n          [1.8457e-01, 5.1019e-01, 5.8146e-01,  ..., 3.5035e-01,\n           7.4413e-03, 1.3100e-01]],\n\n         ...,\n\n         [[5.3054e-01, 6.3376e-01, 1.4353e-01,  ..., 7.4725e-01,\n           7.2070e-01, 4.7339e-01],\n          [4.1856e-01, 4.0385e-01, 7.5547e-01,  ..., 8.6653e-01,\n           2.1789e-01, 4.5316e-02],\n          [8.9650e-01, 1.1972e-01, 9.8686e-01,  ..., 5.8444e-01,\n           9.7160e-01, 2.9145e-01],\n          ...,\n          [2.8803e-01, 8.0780e-02, 2.9775e-01,  ..., 6.5476e-01,\n           8.7048e-02, 3.9934e-01],\n          [3.3453e-01, 1.6309e-01, 9.6405e-01,  ..., 7.2096e-01,\n           9.9174e-01, 9.8483e-02],\n          [8.0984e-01, 3.6571e-01, 9.3880e-01,  ..., 5.1170e-01,\n           2.4167e-01, 9.4098e-02]],\n\n         [[9.7912e-01, 8.2485e-01, 1.9358e-01,  ..., 3.4328e-01,\n           2.2683e-01, 4.8808e-01],\n          [1.4481e-02, 2.8609e-01, 1.6276e-03,  ..., 6.9985e-01,\n           1.5819e-02, 4.0537e-01],\n          [7.7636e-01, 2.0430e-01, 7.0446e-01,  ..., 1.5150e-01,\n           4.3725e-01, 4.4838e-01],\n          ...,\n          [8.3449e-01, 5.4557e-01, 8.3470e-01,  ..., 9.8570e-01,\n           3.0415e-01, 2.4418e-01],\n          [3.0232e-02, 9.4288e-01, 3.6842e-01,  ..., 2.5497e-01,\n           4.5363e-01, 3.8861e-01],\n          [2.8110e-01, 7.6362e-01, 4.1213e-01,  ..., 9.8044e-01,\n           3.5177e-01, 3.7972e-01]],\n\n         [[9.8827e-02, 7.4579e-03, 6.6752e-01,  ..., 8.7957e-01,\n           4.9388e-01, 1.2215e-01],\n          [3.3964e-01, 2.0542e-01, 7.3361e-02,  ..., 2.3488e-01,\n           4.5871e-01, 4.8404e-01],\n          [9.8158e-01, 3.1317e-01, 2.1778e-01,  ..., 6.5380e-01,\n           3.7264e-01, 4.2541e-01],\n          ...,\n          [5.4477e-01, 7.9694e-01, 5.3966e-01,  ..., 7.1708e-01,\n           7.2570e-02, 6.8450e-02],\n          [8.2360e-01, 5.4069e-03, 5.1829e-01,  ..., 1.8706e-01,\n           4.5673e-01, 2.6351e-01],\n          [7.3499e-02, 9.3808e-01, 6.4953e-01,  ..., 1.4343e-01,\n           7.7283e-01, 5.2646e-01]]],\n\n\n        [[[1.8518e-01, 9.1050e-01, 7.9114e-01,  ..., 6.2134e-01,\n           6.7475e-01, 9.8749e-01],\n          [6.4463e-01, 3.0626e-01, 6.1822e-01,  ..., 7.5472e-01,\n           2.8515e-01, 4.5372e-01],\n          [7.8391e-02, 3.4303e-01, 1.9608e-01,  ..., 7.5214e-01,\n           2.1436e-01, 8.6264e-01],\n          ...,\n          [5.4362e-02, 9.7507e-01, 3.4858e-01,  ..., 2.3682e-01,\n           4.1038e-01, 4.6459e-02],\n          [2.6927e-02, 9.5015e-01, 2.4721e-01,  ..., 2.3686e-01,\n           9.4086e-01, 1.0104e-01],\n          [3.8965e-01, 9.4670e-01, 4.7507e-01,  ..., 6.2617e-01,\n           5.9865e-01, 5.9136e-01]],\n\n         [[4.8802e-01, 4.9844e-01, 2.4885e-01,  ..., 5.8591e-01,\n           7.0279e-01, 6.7316e-01],\n          [5.7838e-01, 6.2795e-01, 2.4939e-01,  ..., 3.3993e-01,\n           4.2566e-01, 5.2190e-01],\n          [9.6625e-01, 5.6145e-01, 1.5061e-01,  ..., 1.4098e-01,\n           3.3182e-01, 9.6636e-01],\n          ...,\n          [7.0563e-01, 4.2630e-01, 2.2900e-01,  ..., 6.3656e-01,\n           6.8511e-01, 4.5641e-01],\n          [2.2102e-01, 1.7849e-01, 9.2546e-01,  ..., 4.7640e-01,\n           2.7795e-01, 7.1189e-02],\n          [2.3889e-01, 3.8014e-01, 7.5032e-01,  ..., 2.0234e-01,\n           1.8040e-01, 2.9611e-01]],\n\n         [[3.3510e-01, 5.8291e-01, 2.5018e-02,  ..., 6.5979e-01,\n           9.1234e-01, 5.6634e-01],\n          [5.1265e-03, 6.7038e-01, 3.8903e-01,  ..., 4.8814e-01,\n           3.6122e-01, 9.4477e-01],\n          [2.7995e-01, 5.3503e-01, 2.4170e-02,  ..., 5.6818e-01,\n           6.8083e-01, 2.7677e-01],\n          ...,\n          [9.0783e-01, 2.4447e-01, 9.4508e-01,  ..., 3.2108e-01,\n           1.0507e-01, 3.2799e-01],\n          [4.2231e-01, 7.5632e-01, 3.0104e-01,  ..., 1.8057e-02,\n           9.6638e-02, 9.0221e-01],\n          [2.6233e-01, 3.8498e-01, 1.3277e-01,  ..., 1.3588e-01,\n           2.5095e-01, 8.9967e-01]],\n\n         ...,\n\n         [[5.5171e-01, 9.2849e-01, 8.8186e-01,  ..., 6.8715e-01,\n           1.6438e-01, 4.7078e-01],\n          [3.0382e-01, 3.2587e-01, 7.3422e-01,  ..., 5.0429e-01,\n           8.0516e-01, 3.7581e-01],\n          [6.4187e-02, 7.4309e-01, 7.5021e-01,  ..., 9.0217e-02,\n           2.9521e-01, 9.9238e-01],\n          ...,\n          [5.5709e-01, 7.4353e-01, 3.6601e-01,  ..., 3.0133e-01,\n           9.9174e-01, 7.7387e-01],\n          [7.6435e-01, 3.8082e-01, 4.4750e-01,  ..., 8.7010e-01,\n           2.6261e-01, 3.5910e-01],\n          [6.7459e-01, 2.4890e-01, 2.2608e-01,  ..., 6.2238e-02,\n           1.9518e-01, 9.1224e-01]],\n\n         [[9.6433e-01, 8.2501e-01, 7.9010e-01,  ..., 1.6281e-01,\n           7.1720e-01, 4.0811e-01],\n          [4.4460e-01, 5.7792e-01, 3.6752e-01,  ..., 2.6454e-01,\n           9.3078e-01, 7.7264e-01],\n          [2.9597e-01, 2.3495e-01, 1.8008e-03,  ..., 7.4566e-02,\n           8.2917e-01, 8.5501e-01],\n          ...,\n          [1.7166e-01, 6.6325e-01, 8.6722e-01,  ..., 7.2861e-01,\n           5.7756e-01, 8.5821e-01],\n          [3.8703e-01, 9.4177e-02, 5.9862e-01,  ..., 1.2031e-01,\n           6.8977e-01, 9.0815e-01],\n          [2.3078e-01, 8.6233e-01, 9.7592e-01,  ..., 3.6635e-01,\n           9.8921e-01, 2.3039e-01]],\n\n         [[3.8220e-02, 3.6436e-01, 2.4672e-01,  ..., 3.5686e-01,\n           4.5517e-01, 2.8709e-01],\n          [3.8018e-01, 6.8006e-01, 3.8318e-01,  ..., 5.6758e-01,\n           6.2869e-01, 3.1834e-01],\n          [1.2657e-01, 9.8966e-01, 7.8830e-01,  ..., 8.7352e-01,\n           6.2066e-01, 4.5456e-01],\n          ...,\n          [5.3541e-01, 3.0470e-02, 1.0216e-01,  ..., 9.5835e-01,\n           5.1957e-01, 3.9805e-01],\n          [8.2481e-02, 2.9194e-01, 9.4346e-01,  ..., 7.6628e-01,\n           6.1470e-01, 4.4413e-01],\n          [2.7872e-01, 8.2912e-01, 5.4550e-01,  ..., 9.6885e-01,\n           7.1915e-02, 7.3084e-01]]]])"
     },
     "execution_count": 12,
     "metadata": {},
     "output_type": "execute_result"
    }
   ],
   "source": [
    "a"
   ],
   "metadata": {
    "collapsed": false,
    "pycharm": {
     "name": "#%%\n"
    }
   }
  },
  {
   "cell_type": "code",
   "execution_count": 13,
   "outputs": [
    {
     "data": {
      "text/plain": "tensor([[[[6.2467e-02, 2.4075e-01, 5.9731e-01,  ..., 8.2026e-02,\n           9.6949e-02, 1.0441e-01],\n          [1.6466e-01, 2.8435e-01, 5.2375e-01,  ..., 2.3952e-01,\n           2.2633e-01, 2.1974e-01],\n          [3.6905e-01, 3.7157e-01, 3.7662e-01,  ..., 5.5449e-01,\n           4.8510e-01, 4.5041e-01],\n          ...,\n          [8.6074e-01, 7.8168e-01, 6.2356e-01,  ..., 8.4390e-01,\n           7.6557e-01, 7.2640e-01],\n          [8.6775e-01, 8.5740e-01, 8.3671e-01,  ..., 7.2483e-01,\n           8.2402e-01, 8.7361e-01],\n          [8.7125e-01, 8.9526e-01, 9.4328e-01,  ..., 6.6530e-01,\n           8.5324e-01, 9.4722e-01]],\n\n         [[2.7652e-01, 2.4260e-01, 1.7476e-01,  ..., 4.9539e-01,\n           5.4435e-01, 5.6883e-01],\n          [3.1582e-01, 3.1215e-01, 3.0480e-01,  ..., 5.4512e-01,\n           5.7832e-01, 5.9491e-01],\n          [3.9442e-01, 4.5124e-01, 5.6489e-01,  ..., 6.4459e-01,\n           6.4625e-01, 6.4708e-01],\n          ...,\n          [3.8433e-01, 4.6563e-01, 6.2823e-01,  ..., 4.9857e-01,\n           6.6843e-01, 7.5336e-01],\n          [3.5255e-01, 4.8455e-01, 7.4856e-01,  ..., 3.6049e-01,\n           3.1330e-01, 2.8970e-01],\n          [3.3665e-01, 4.9401e-01, 8.0872e-01,  ..., 2.9145e-01,\n           1.3573e-01, 5.7869e-02]],\n\n         [[2.3647e-01, 2.1395e-01, 1.6890e-01,  ..., 3.3724e-01,\n           6.1053e-01, 7.4718e-01],\n          [3.0952e-01, 2.6562e-01, 1.7781e-01,  ..., 4.6521e-01,\n           6.1435e-01, 6.8893e-01],\n          [4.5561e-01, 3.6895e-01, 1.9563e-01,  ..., 7.2113e-01,\n           6.2199e-01, 5.7243e-01],\n          ...,\n          [6.1648e-01, 5.2257e-01, 3.3475e-01,  ..., 6.5858e-01,\n           5.9871e-01, 5.6877e-01],\n          [3.8870e-01, 4.1341e-01, 4.6285e-01,  ..., 8.6525e-01,\n           8.5167e-01, 8.4488e-01],\n          [2.7480e-01, 3.5884e-01, 5.2690e-01,  ..., 9.6858e-01,\n           9.7815e-01, 9.8294e-01]],\n\n         ...,\n\n         [[3.6241e-01, 4.9487e-01, 7.5978e-01,  ..., 5.3642e-01,\n           6.3738e-01, 6.8786e-01],\n          [2.9233e-01, 3.9170e-01, 5.9044e-01,  ..., 5.2408e-01,\n           6.1681e-01, 6.6318e-01],\n          [1.5218e-01, 1.8537e-01, 2.5174e-01,  ..., 4.9940e-01,\n           5.7568e-01, 6.1382e-01],\n          ...,\n          [7.3674e-01, 6.1941e-01, 3.8475e-01,  ..., 8.7869e-01,\n           7.5171e-01, 6.8822e-01],\n          [5.8703e-01, 6.1939e-01, 6.8411e-01,  ..., 7.4854e-01,\n           5.4128e-01, 4.3764e-01],\n          [5.1218e-01, 6.1938e-01, 8.3379e-01,  ..., 6.8347e-01,\n           4.3606e-01, 3.1235e-01]],\n\n         [[5.2289e-01, 5.9536e-01, 7.4032e-01,  ..., 6.2006e-01,\n           7.4553e-01, 8.0827e-01],\n          [6.0110e-01, 6.1674e-01, 6.4803e-01,  ..., 6.7129e-01,\n           7.0788e-01, 7.2618e-01],\n          [7.5752e-01, 6.5950e-01, 4.6346e-01,  ..., 7.7374e-01,\n           6.3259e-01, 5.6201e-01],\n          ...,\n          [9.0204e-01, 7.9133e-01, 5.6992e-01,  ..., 4.1408e-01,\n           6.0336e-01, 6.9800e-01],\n          [7.2121e-01, 6.5978e-01, 5.3694e-01,  ..., 6.7947e-01,\n           5.0526e-01, 4.1815e-01],\n          [6.3079e-01, 5.9401e-01, 5.2045e-01,  ..., 8.1217e-01,\n           4.5620e-01, 2.7822e-01]],\n\n         [[2.6512e-04, 9.3655e-02, 2.8043e-01,  ..., 5.2786e-01,\n           3.9167e-01, 3.2357e-01],\n          [1.8241e-01, 2.6533e-01, 4.3118e-01,  ..., 4.0110e-01,\n           3.0926e-01, 2.6334e-01],\n          [5.4671e-01, 6.0869e-01, 7.3266e-01,  ..., 1.4760e-01,\n           1.4445e-01, 1.4287e-01],\n          ...,\n          [8.8340e-01, 7.9201e-01, 6.0923e-01,  ..., 1.6782e-01,\n           2.2430e-01, 2.5255e-01],\n          [7.0437e-01, 6.6929e-01, 5.9912e-01,  ..., 3.5636e-01,\n           5.4802e-01, 6.4385e-01],\n          [6.1485e-01, 6.0793e-01, 5.9407e-01,  ..., 4.5063e-01,\n           7.0988e-01, 8.3950e-01]]],\n\n\n        [[[9.8436e-01, 9.6301e-01, 9.2033e-01,  ..., 3.2790e-01,\n           6.2176e-01, 7.6869e-01],\n          [8.1718e-01, 8.0964e-01, 7.9456e-01,  ..., 3.4772e-01,\n           6.0782e-01, 7.3786e-01],\n          [4.8284e-01, 5.0290e-01, 5.4303e-01,  ..., 3.8736e-01,\n           5.7993e-01, 6.7622e-01],\n          ...,\n          [3.3671e-01, 4.2550e-01, 6.0309e-01,  ..., 8.9768e-01,\n           8.0674e-01, 7.6127e-01],\n          [7.2337e-01, 6.6510e-01, 5.4856e-01,  ..., 8.1122e-01,\n           6.9227e-01, 6.3280e-01],\n          [9.1670e-01, 7.8490e-01, 5.2129e-01,  ..., 7.6800e-01,\n           6.3504e-01, 5.6856e-01]],\n\n         [[2.2660e-01, 2.6707e-01, 3.4800e-01,  ..., 4.5630e-01,\n           2.9217e-01, 2.1010e-01],\n          [2.5713e-01, 3.2769e-01, 4.6881e-01,  ..., 3.7723e-01,\n           2.8455e-01, 2.3820e-01],\n          [3.1819e-01, 4.4894e-01, 7.1044e-01,  ..., 2.1909e-01,\n           2.6930e-01, 2.9441e-01],\n          ...,\n          [4.7131e-01, 4.9012e-01, 5.2774e-01,  ..., 2.1504e-01,\n           3.8298e-01, 4.6695e-01],\n          [7.4812e-01, 7.4706e-01, 7.4495e-01,  ..., 3.4562e-01,\n           5.1165e-01, 5.9466e-01],\n          [8.8653e-01, 8.7553e-01, 8.5355e-01,  ..., 4.1092e-01,\n           5.7598e-01, 6.5851e-01]],\n\n         [[8.8839e-01, 7.5544e-01, 4.8954e-01,  ..., 3.0808e-01,\n           5.2090e-01, 6.2731e-01],\n          [6.7383e-01, 5.9431e-01, 4.3526e-01,  ..., 3.3339e-01,\n           5.3298e-01, 6.3278e-01],\n          [2.4471e-01, 2.7204e-01, 3.2671e-01,  ..., 3.8400e-01,\n           5.5715e-01, 6.4372e-01],\n          ...,\n          [2.9327e-01, 3.6899e-01, 5.2042e-01,  ..., 6.0122e-01,\n           5.6712e-01, 5.5007e-01],\n          [4.7071e-01, 4.9390e-01, 5.4027e-01,  ..., 5.3692e-01,\n           5.5186e-01, 5.5933e-01],\n          [5.5943e-01, 5.5635e-01, 5.5020e-01,  ..., 5.0477e-01,\n           5.4423e-01, 5.6397e-01]],\n\n         ...,\n\n         [[3.7779e-01, 4.2833e-01, 5.2940e-01,  ..., 3.9840e-01,\n           1.9198e-01, 8.8764e-02],\n          [3.0541e-01, 3.9044e-01, 5.6052e-01,  ..., 4.9094e-01,\n           2.2651e-01, 9.4299e-02],\n          [1.6064e-01, 3.1468e-01, 6.2275e-01,  ..., 6.7603e-01,\n           2.9559e-01, 1.0537e-01],\n          ...,\n          [8.5114e-01, 6.7425e-01, 3.2045e-01,  ..., 3.0052e-01,\n           3.8903e-01, 4.3329e-01],\n          [6.3069e-01, 5.7881e-01, 4.7505e-01,  ..., 3.9806e-01,\n           5.4642e-01, 6.2060e-01],\n          [5.2046e-01, 5.3109e-01, 5.5235e-01,  ..., 4.4682e-01,\n           6.2511e-01, 7.1426e-01]],\n\n         [[9.7532e-01, 8.3361e-01, 5.5019e-01,  ..., 3.7902e-01,\n           7.2502e-01, 8.9802e-01],\n          [7.7375e-01, 6.7240e-01, 4.6971e-01,  ..., 3.6332e-01,\n           6.8070e-01, 8.3939e-01],\n          [3.7059e-01, 3.4998e-01, 3.0876e-01,  ..., 3.3192e-01,\n           5.9206e-01, 7.2213e-01],\n          ...,\n          [5.2896e-01, 5.5198e-01, 5.9801e-01,  ..., 3.6985e-01,\n           4.5717e-01, 5.0083e-01],\n          [2.2151e-01, 2.7900e-01, 3.9398e-01,  ..., 5.2705e-01,\n           4.2327e-01, 3.7138e-01],\n          [6.7782e-02, 1.4251e-01, 2.9197e-01,  ..., 6.0565e-01,\n           4.0632e-01, 3.0666e-01]],\n\n         [[5.5801e-01, 4.7322e-01, 3.0363e-01,  ..., 4.9124e-01,\n           3.7937e-01, 3.2344e-01],\n          [5.4927e-01, 4.9303e-01, 3.8054e-01,  ..., 4.2797e-01,\n           3.5056e-01, 3.1186e-01],\n          [5.3180e-01, 5.3265e-01, 5.3435e-01,  ..., 3.0143e-01,\n           2.9295e-01, 2.8870e-01],\n          ...,\n          [3.9308e-01, 4.0993e-01, 4.4363e-01,  ..., 5.1169e-01,\n           2.8822e-01, 1.7648e-01],\n          [3.0243e-01, 4.2772e-01, 6.7830e-01,  ..., 5.2715e-01,\n           3.7439e-01, 2.9801e-01],\n          [2.5710e-01, 4.3661e-01, 7.9563e-01,  ..., 5.3488e-01,\n           4.1747e-01, 3.5877e-01]]],\n\n\n        [[[5.0108e-01, 5.9949e-01, 7.9631e-01,  ..., 3.2017e-01,\n           1.3288e-01, 3.9238e-02],\n          [5.6075e-01, 6.1693e-01, 7.2930e-01,  ..., 3.7939e-01,\n           1.7477e-01, 7.2461e-02],\n          [6.8009e-01, 6.5182e-01, 5.9528e-01,  ..., 4.9782e-01,\n           2.5854e-01, 1.3891e-01],\n          ...,\n          [2.4399e-01, 2.2903e-01, 1.9913e-01,  ..., 5.1589e-01,\n           5.2161e-01, 5.2447e-01],\n          [2.0340e-01, 2.5550e-01, 3.5970e-01,  ..., 3.2818e-01,\n           4.5943e-01, 5.2506e-01],\n          [1.8310e-01, 2.6873e-01, 4.3998e-01,  ..., 2.3432e-01,\n           4.2834e-01, 5.2535e-01]],\n\n         [[9.4539e-01, 7.5936e-01, 3.8729e-01,  ..., 4.9646e-01,\n           2.3140e-01, 9.8866e-02],\n          [9.3685e-01, 7.7978e-01, 4.6563e-01,  ..., 5.3250e-01,\n           2.5082e-01, 1.0999e-01],\n          [9.1976e-01, 8.2061e-01, 6.2233e-01,  ..., 6.0456e-01,\n           2.8967e-01, 1.3223e-01],\n          ...,\n          [8.0690e-01, 7.4382e-01, 6.1764e-01,  ..., 6.4632e-01,\n           6.0735e-01, 5.8787e-01],\n          [5.9665e-01, 5.4805e-01, 4.5086e-01,  ..., 6.7079e-01,\n           5.4438e-01, 4.8117e-01],\n          [4.9152e-01, 4.5017e-01, 3.6746e-01,  ..., 6.8302e-01,\n           5.1289e-01, 4.2783e-01]],\n\n         [[9.8371e-01, 8.7657e-01, 6.6228e-01,  ..., 4.8614e-01,\n           2.7640e-01, 1.7153e-01],\n          [8.8180e-01, 8.0873e-01, 6.6259e-01,  ..., 5.3314e-01,\n           2.8542e-01, 1.6156e-01],\n          [6.7797e-01, 6.7305e-01, 6.6323e-01,  ..., 6.2714e-01,\n           3.0347e-01, 1.4163e-01],\n          ...,\n          [2.8824e-01, 3.7478e-01, 5.4786e-01,  ..., 8.2490e-01,\n           7.4823e-01, 7.0989e-01],\n          [4.8153e-01, 5.1153e-01, 5.7154e-01,  ..., 6.8190e-01,\n           5.1000e-01, 4.2404e-01],\n          [5.7817e-01, 5.7991e-01, 5.8338e-01,  ..., 6.1041e-01,\n           3.9088e-01, 2.8112e-01]],\n\n         ...,\n\n         [[6.4804e-01, 7.2469e-01, 8.7799e-01,  ..., 7.0341e-01,\n           4.4629e-01, 3.1772e-01],\n          [5.6481e-01, 6.1641e-01, 7.1960e-01,  ..., 5.9534e-01,\n           5.2160e-01, 4.8473e-01],\n          [3.9835e-01, 3.9984e-01, 4.0283e-01,  ..., 3.7919e-01,\n           6.7223e-01, 8.1876e-01],\n          ...,\n          [5.3782e-01, 5.4717e-01, 5.6586e-01,  ..., 8.1972e-01,\n           5.5306e-01, 4.1974e-01],\n          [6.3204e-01, 5.2973e-01, 3.2510e-01,  ..., 7.7970e-01,\n           3.8597e-01, 1.8911e-01],\n          [6.7915e-01, 5.2101e-01, 2.0472e-01,  ..., 7.5969e-01,\n           3.0242e-01, 7.3791e-02]],\n\n         [[8.2572e-01, 6.2573e-01, 2.2574e-01,  ..., 6.0324e-01,\n           7.4530e-01, 8.1633e-01],\n          [7.9782e-01, 6.4183e-01, 3.2986e-01,  ..., 6.3476e-01,\n           6.8479e-01, 7.0981e-01],\n          [7.4203e-01, 6.7405e-01, 5.3809e-01,  ..., 6.9780e-01,\n           5.6378e-01, 4.9677e-01],\n          ...,\n          [2.3894e-01, 4.0436e-01, 7.3521e-01,  ..., 4.5768e-01,\n           5.0360e-01, 5.2656e-01],\n          [1.2616e-01, 2.8867e-01, 6.1369e-01,  ..., 3.8223e-01,\n           6.4830e-01, 7.8134e-01],\n          [6.9775e-02, 2.3083e-01, 5.5294e-01,  ..., 3.4451e-01,\n           7.2065e-01, 9.0873e-01]],\n\n         [[4.0965e-01, 5.5053e-01, 8.3230e-01,  ..., 2.6418e-01,\n           6.0538e-01, 7.7598e-01],\n          [4.7692e-01, 5.8492e-01, 8.0094e-01,  ..., 2.7970e-01,\n           6.1480e-01, 7.8236e-01],\n          [6.1145e-01, 6.5371e-01, 7.3822e-01,  ..., 3.1073e-01,\n           6.3365e-01, 7.9511e-01],\n          ...,\n          [1.5218e-01, 2.3552e-01, 4.0220e-01,  ..., 2.5068e-01,\n           5.7984e-01, 7.4442e-01],\n          [2.7806e-01, 3.6909e-01, 5.5117e-01,  ..., 1.6169e-01,\n           3.5308e-01, 4.4877e-01],\n          [3.4099e-01, 4.3588e-01, 6.2565e-01,  ..., 1.1720e-01,\n           2.3969e-01, 3.0094e-01]]],\n\n\n        ...,\n\n\n        [[[4.5240e-01, 4.6663e-01, 4.9510e-01,  ..., 8.3086e-01,\n           8.3289e-01, 8.3391e-01],\n          [5.3811e-01, 5.1608e-01, 4.7201e-01,  ..., 7.6453e-01,\n           7.7839e-01, 7.8531e-01],\n          [7.0952e-01, 6.1496e-01, 4.2583e-01,  ..., 6.3187e-01,\n           6.6938e-01, 6.8813e-01],\n          ...,\n          [2.8304e-01, 2.4936e-01, 1.8202e-01,  ..., 7.2888e-01,\n           6.6435e-01, 6.3208e-01],\n          [5.2294e-01, 4.4341e-01, 2.8435e-01,  ..., 3.7288e-01,\n           3.7404e-01, 3.7461e-01],\n          [6.4289e-01, 5.4043e-01, 3.3552e-01,  ..., 1.9489e-01,\n           2.2888e-01, 2.4588e-01]],\n\n         [[6.9976e-01, 5.2955e-01, 1.8914e-01,  ..., 5.1711e-01,\n           8.1595e-01, 9.6537e-01],\n          [7.4371e-01, 6.0786e-01, 3.3615e-01,  ..., 4.5593e-01,\n           7.6939e-01, 9.2612e-01],\n          [8.3162e-01, 7.6447e-01, 6.3017e-01,  ..., 3.3357e-01,\n           6.7627e-01, 8.4762e-01],\n          ...,\n          [4.5509e-01, 5.0815e-01, 6.1427e-01,  ..., 6.7118e-01,\n           6.3335e-01, 6.1444e-01],\n          [7.8867e-01, 7.5622e-01, 6.9132e-01,  ..., 5.0779e-01,\n           5.4266e-01, 5.6010e-01],\n          [9.5546e-01, 8.8026e-01, 7.2984e-01,  ..., 4.2610e-01,\n           4.9732e-01, 5.3293e-01]],\n\n         [[6.4708e-01, 5.5044e-01, 3.5714e-01,  ..., 4.3381e-01,\n           4.3130e-01, 4.3004e-01],\n          [6.5201e-01, 5.9537e-01, 4.8209e-01,  ..., 3.9572e-01,\n           4.2050e-01, 4.3289e-01],\n          [6.6186e-01, 6.8524e-01, 7.3200e-01,  ..., 3.1953e-01,\n           3.9890e-01, 4.3859e-01],\n          ...,\n          [3.2203e-01, 4.3080e-01, 6.4833e-01,  ..., 7.9371e-01,\n           8.0509e-01, 8.1077e-01],\n          [3.6524e-01, 4.9197e-01, 7.4544e-01,  ..., 5.8669e-01,\n           4.8685e-01, 4.3693e-01],\n          [3.8684e-01, 5.2256e-01, 7.9399e-01,  ..., 4.8318e-01,\n           3.2774e-01, 2.5001e-01]],\n\n         ...,\n\n         [[7.1224e-01, 5.6733e-01, 2.7750e-01,  ..., 2.3575e-01,\n           6.0088e-01, 7.8344e-01],\n          [5.5019e-01, 4.6172e-01, 2.8476e-01,  ..., 2.9717e-01,\n           4.9996e-01, 6.0135e-01],\n          [2.2609e-01, 2.5049e-01, 2.9928e-01,  ..., 4.2001e-01,\n           2.9812e-01, 2.3717e-01],\n          ...,\n          [5.3128e-01, 4.9398e-01, 4.1939e-01,  ..., 5.4625e-01,\n           7.5500e-01, 8.5937e-01],\n          [5.1207e-01, 4.5998e-01, 3.5578e-01,  ..., 7.5503e-01,\n           7.8393e-01, 7.9838e-01],\n          [5.0247e-01, 4.4297e-01, 3.2398e-01,  ..., 8.5942e-01,\n           7.9840e-01, 7.6788e-01]],\n\n         [[6.5829e-01, 5.4546e-01, 3.1980e-01,  ..., 8.8362e-01,\n           8.1567e-01, 7.8170e-01],\n          [5.1553e-01, 4.4013e-01, 2.8932e-01,  ..., 7.8377e-01,\n           6.7540e-01, 6.2122e-01],\n          [2.3003e-01, 2.2947e-01, 2.2836e-01,  ..., 5.8405e-01,\n           3.9487e-01, 3.0028e-01],\n          ...,\n          [6.3414e-01, 5.8528e-01, 4.8758e-01,  ..., 7.0121e-01,\n           5.8513e-01, 5.2708e-01],\n          [7.1071e-01, 6.0973e-01, 4.0777e-01,  ..., 3.5935e-01,\n           4.5535e-01, 5.0335e-01],\n          [7.4900e-01, 6.2195e-01, 3.6787e-01,  ..., 1.8842e-01,\n           3.9046e-01, 4.9149e-01]],\n\n         [[6.7944e-01, 6.0091e-01, 4.4385e-01,  ..., 2.5494e-01,\n           8.6534e-02, 2.3326e-03],\n          [5.8080e-01, 5.3129e-01, 4.3228e-01,  ..., 2.1145e-01,\n           1.1546e-01, 6.7471e-02],\n          [3.8350e-01, 3.9205e-01, 4.0915e-01,  ..., 1.2446e-01,\n           1.7332e-01, 1.9775e-01],\n          ...,\n          [4.3358e-01, 5.0262e-01, 6.4070e-01,  ..., 3.8881e-01,\n           6.9933e-01, 8.5459e-01],\n          [7.6230e-01, 7.8972e-01, 8.4457e-01,  ..., 6.9368e-01,\n           7.1792e-01, 7.3004e-01],\n          [9.2666e-01, 9.3327e-01, 9.4650e-01,  ..., 8.4611e-01,\n           7.2722e-01, 6.6777e-01]]],\n\n\n        [[[1.4824e-01, 3.0514e-01, 6.1895e-01,  ..., 3.5143e-01,\n           3.6749e-01, 3.7552e-01],\n          [1.4446e-01, 3.1394e-01, 6.5290e-01,  ..., 4.6701e-01,\n           4.4874e-01, 4.3960e-01],\n          [1.3690e-01, 3.3153e-01, 7.2079e-01,  ..., 6.9818e-01,\n           6.1123e-01, 5.6776e-01],\n          ...,\n          [7.3095e-01, 5.8651e-01, 2.9763e-01,  ..., 8.8301e-01,\n           9.2941e-01, 9.5261e-01],\n          [4.7859e-01, 4.0776e-01, 2.6608e-01,  ..., 6.7850e-01,\n           8.3309e-01, 9.1039e-01],\n          [3.5242e-01, 3.1838e-01, 2.5031e-01,  ..., 5.7624e-01,\n           7.8493e-01, 8.8928e-01]],\n\n         [[8.8791e-01, 6.7217e-01, 2.4069e-01,  ..., 6.9046e-01,\n           6.9137e-01, 6.9182e-01],\n          [7.0748e-01, 5.4161e-01, 2.0988e-01,  ..., 6.9424e-01,\n           6.9184e-01, 6.9065e-01],\n          [3.4662e-01, 2.8049e-01, 1.4825e-01,  ..., 7.0180e-01,\n           6.9280e-01, 6.8830e-01],\n          ...,\n          [5.5164e-01, 5.9760e-01, 6.8953e-01,  ..., 4.2431e-01,\n           3.5970e-01, 3.2739e-01],\n          [4.8111e-01, 5.7122e-01, 7.5143e-01,  ..., 4.9571e-01,\n           5.1062e-01, 5.1808e-01],\n          [4.4585e-01, 5.5803e-01, 7.8238e-01,  ..., 5.3141e-01,\n           5.8608e-01, 6.1342e-01]],\n\n         [[4.2191e-01, 3.5169e-01, 2.1125e-01,  ..., 6.1536e-01,\n           5.6264e-01, 5.3628e-01],\n          [4.3980e-01, 3.6530e-01, 2.1631e-01,  ..., 5.2030e-01,\n           4.6754e-01, 4.4116e-01],\n          [4.7557e-01, 3.9253e-01, 2.2645e-01,  ..., 3.3018e-01,\n           2.7734e-01, 2.5091e-01],\n          ...,\n          [7.4954e-01, 7.5278e-01, 7.5926e-01,  ..., 4.3839e-01,\n           4.3900e-01, 4.3931e-01],\n          [3.7289e-01, 4.2824e-01, 5.3895e-01,  ..., 1.7168e-01,\n           2.1307e-01, 2.3377e-01],\n          [1.8457e-01, 2.6597e-01, 4.2879e-01,  ..., 3.8331e-02,\n           1.0011e-01, 1.3100e-01]],\n\n         ...,\n\n         [[5.3054e-01, 5.5634e-01, 6.0796e-01,  ..., 6.5887e-01,\n           5.3522e-01, 4.7339e-01],\n          [5.0254e-01, 5.2098e-01, 5.5785e-01,  ..., 5.3784e-01,\n           4.2353e-01, 3.6637e-01],\n          [4.4655e-01, 4.5025e-01, 4.5763e-01,  ..., 2.9578e-01,\n           2.0015e-01, 1.5233e-01],\n          ...,\n          [4.5335e-01, 3.9345e-01, 2.7365e-01,  ..., 6.2751e-01,\n           2.7410e-01, 9.7387e-02],\n          [6.9101e-01, 5.9702e-01, 4.0904e-01,  ..., 3.4569e-01,\n           1.7869e-01, 9.5194e-02],\n          [8.0984e-01, 6.9881e-01, 4.7674e-01,  ..., 2.0478e-01,\n           1.3099e-01, 9.4098e-02]],\n\n         [[9.7912e-01, 9.4056e-01, 8.6342e-01,  ..., 2.9214e-01,\n           4.2277e-01, 4.8808e-01],\n          [7.3796e-01, 7.2601e-01, 7.0211e-01,  ..., 2.4741e-01,\n           3.9407e-01, 4.6740e-01],\n          [2.5564e-01, 2.9693e-01, 3.7950e-01,  ..., 1.5794e-01,\n           3.3668e-01, 4.2605e-01],\n          ...,\n          [9.2950e-02, 2.9423e-01, 6.9679e-01,  ..., 4.1772e-01,\n           3.9683e-01, 3.8638e-01],\n          [2.1838e-01, 3.6590e-01, 6.6092e-01,  ..., 3.7841e-01,\n           3.8076e-01, 3.8194e-01],\n          [2.8110e-01, 4.0173e-01, 6.4299e-01,  ..., 3.5876e-01,\n           3.7273e-01, 3.7972e-01]],\n\n         [[9.8827e-02, 7.5985e-02, 3.0300e-02,  ..., 4.0095e-01,\n           2.1508e-01, 1.2215e-01],\n          [1.5903e-01, 1.3351e-01, 8.2470e-02,  ..., 4.1697e-01,\n           2.8074e-01, 2.1262e-01],\n          [2.7944e-01, 2.4856e-01, 1.8681e-01,  ..., 4.4902e-01,\n           4.1205e-01, 3.9356e-01],\n          ...,\n          [6.3608e-01, 5.3670e-01, 3.3795e-01,  ..., 4.8413e-01,\n           3.8087e-01, 3.2925e-01],\n          [2.6103e-01, 3.7200e-01, 5.9394e-01,  ..., 6.3553e-01,\n           5.1899e-01, 4.6072e-01],\n          [7.3499e-02, 2.8964e-01, 7.2193e-01,  ..., 7.1123e-01,\n           5.8805e-01, 5.2646e-01]]],\n\n\n        [[[1.8518e-01, 3.6651e-01, 7.2917e-01,  ..., 7.5293e-01,\n           9.0930e-01, 9.8749e-01],\n          [3.0004e-01, 4.1489e-01, 6.4459e-01,  ..., 6.4652e-01,\n           7.8487e-01, 8.5404e-01],\n          [5.2976e-01, 5.1165e-01, 4.7543e-01,  ..., 4.3370e-01,\n           5.3601e-01, 5.8716e-01],\n          ...,\n          [1.1761e-01, 3.2553e-01, 7.4137e-01,  ..., 6.9739e-01,\n           3.8154e-01, 2.2362e-01],\n          [2.9897e-01, 4.6112e-01, 7.8541e-01,  ..., 6.3035e-01,\n           5.2264e-01, 4.6878e-01],\n          [3.8965e-01, 5.2891e-01, 8.0744e-01,  ..., 5.9683e-01,\n           5.9318e-01, 5.9136e-01]],\n\n         [[4.8802e-01, 4.9062e-01, 4.9583e-01,  ..., 6.9538e-01,\n           6.8057e-01, 6.7316e-01],\n          [5.1061e-01, 5.1566e-01, 5.2577e-01,  ..., 6.3397e-01,\n           6.3489e-01, 6.3535e-01],\n          [5.5579e-01, 5.6573e-01, 5.8563e-01,  ..., 5.1114e-01,\n           5.4352e-01, 5.5972e-01],\n          ...,\n          [2.2549e-01, 2.2634e-01, 2.2805e-01,  ..., 2.2202e-01,\n           1.5895e-01, 1.2742e-01],\n          [2.3443e-01, 2.5825e-01, 3.0590e-01,  ..., 2.1356e-01,\n           2.3111e-01, 2.3988e-01],\n          [2.3889e-01, 2.7421e-01, 3.4483e-01,  ..., 2.0933e-01,\n           2.6719e-01, 2.9611e-01]],\n\n         [[3.3510e-01, 3.9705e-01, 5.2095e-01,  ..., 8.2584e-01,\n           6.5284e-01, 5.6634e-01],\n          [2.5261e-01, 3.4065e-01, 5.1673e-01,  ..., 7.4616e-01,\n           6.8935e-01, 6.6095e-01],\n          [8.7620e-02, 2.2784e-01, 5.0829e-01,  ..., 5.8679e-01,\n           7.6237e-01, 8.5016e-01],\n          ...,\n          [3.8231e-01, 4.5261e-01, 5.9319e-01,  ..., 3.2681e-01,\n           7.0998e-01, 9.0157e-01],\n          [3.0233e-01, 3.4620e-01, 4.3394e-01,  ..., 3.8436e-01,\n           7.2832e-01, 9.0030e-01],\n          [2.6233e-01, 2.9299e-01, 3.5432e-01,  ..., 4.1313e-01,\n           7.3749e-01, 8.9967e-01]],\n\n         ...,\n\n         [[5.5171e-01, 6.4590e-01, 8.3429e-01,  ..., 2.4098e-01,\n           3.9418e-01, 4.7078e-01],\n          [4.8974e-01, 5.6176e-01, 7.0581e-01,  ..., 3.5519e-01,\n           4.1642e-01, 4.4704e-01],\n          [3.6579e-01, 3.9348e-01, 4.4884e-01,  ..., 5.8361e-01,\n           4.6091e-01, 3.9955e-01],\n          ...,\n          [7.4191e-01, 6.4339e-01, 4.4636e-01,  ..., 3.0866e-01,\n           4.3448e-01, 4.9738e-01],\n          [6.9703e-01, 5.9324e-01, 3.8567e-01,  ..., 3.5252e-01,\n           6.3347e-01, 7.7395e-01],\n          [6.7459e-01, 5.6817e-01, 3.5532e-01,  ..., 3.7444e-01,\n           7.3297e-01, 9.1224e-01]],\n\n         [[9.6433e-01, 9.2950e-01, 8.5984e-01,  ..., 6.3992e-01,\n           4.8538e-01, 4.0811e-01],\n          [8.3440e-01, 8.1661e-01, 7.8103e-01,  ..., 7.0276e-01,\n           5.6708e-01, 4.9924e-01],\n          [5.7454e-01, 5.9082e-01, 6.2340e-01,  ..., 8.2842e-01,\n           7.3048e-01, 6.8151e-01],\n          ...,\n          [3.4797e-01, 3.3253e-01, 3.0165e-01,  ..., 7.5815e-01,\n           7.4519e-01, 7.3871e-01],\n          [2.6984e-01, 3.6995e-01, 5.7018e-01,  ..., 7.8572e-01,\n           5.2846e-01, 3.9983e-01],\n          [2.3078e-01, 3.8867e-01, 7.0444e-01,  ..., 7.9951e-01,\n           4.2010e-01, 2.3039e-01]],\n\n         [[3.8220e-02, 1.1975e-01, 2.8282e-01,  ..., 4.1315e-01,\n           3.2911e-01, 2.8709e-01],\n          [1.2371e-01, 2.0360e-01, 3.6339e-01,  ..., 4.4764e-01,\n           3.4582e-01, 2.9490e-01],\n          [2.9469e-01, 3.7130e-01, 5.2452e-01,  ..., 5.1662e-01,\n           3.7922e-01, 3.1053e-01],\n          ...,\n          [1.3154e-01, 2.0521e-01, 3.5256e-01,  ..., 4.8820e-01,\n           5.0661e-01, 5.1581e-01],\n          [2.2966e-01, 3.4595e-01, 5.7853e-01,  ..., 3.2050e-01,\n           5.4628e-01, 6.5917e-01],\n          [2.7872e-01, 4.1632e-01, 6.9152e-01,  ..., 2.3665e-01,\n           5.6611e-01, 7.3084e-01]]]])"
     },
     "execution_count": 13,
     "metadata": {},
     "output_type": "execute_result"
    }
   ],
   "source": [
    "b"
   ],
   "metadata": {
    "collapsed": false,
    "pycharm": {
     "name": "#%%\n"
    }
   }
  },
  {
   "cell_type": "code",
   "execution_count": null,
   "outputs": [],
   "source": [],
   "metadata": {
    "collapsed": false,
    "pycharm": {
     "name": "#%%\n"
    }
   }
  }
 ],
 "metadata": {
  "kernelspec": {
   "display_name": "base",
   "language": "python",
   "name": "python3"
  },
  "language_info": {
   "codemirror_mode": {
    "name": "ipython",
    "version": 3
   },
   "file_extension": ".py",
   "mimetype": "text/x-python",
   "name": "python",
   "nbconvert_exporter": "python",
   "pygments_lexer": "ipython3",
   "version": "3.9.7"
  },
  "orig_nbformat": 4
 },
 "nbformat": 4,
 "nbformat_minor": 2
}